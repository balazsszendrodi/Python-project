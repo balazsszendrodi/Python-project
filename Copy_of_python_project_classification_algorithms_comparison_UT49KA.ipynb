{
  "nbformat": 4,
  "nbformat_minor": 0,
  "metadata": {
    "colab": {
      "name": "Copy of python_project_classification_algorithms_comparison_UT49KA.ipynb",
      "provenance": [],
      "collapsed_sections": [
        "l0h2Z9Gif7Tk",
        "FwnCnID5flUy",
        "n_A4XkpEitXA"
      ]
    },
    "kernelspec": {
      "name": "python3",
      "display_name": "Python 3"
    },
    "language_info": {
      "name": "python"
    }
  },
  "cells": [
    {
      "cell_type": "markdown",
      "source": [
        "## Importing the important libraries:"
      ],
      "metadata": {
        "id": "l0h2Z9Gif7Tk"
      }
    },
    {
      "cell_type": "code",
      "execution_count": null,
      "metadata": {
        "id": "UZ355lJCo_l9"
      },
      "outputs": [],
      "source": [
        "import matplotlib.pyplot as plt\n",
        "import numpy as np\n",
        "import pandas as pd\n",
        "from sklearn.neural_network import MLPClassifier\n",
        "from sklearn.metrics import accuracy_score\n",
        "from sklearn.metrics import precision_score\n",
        "from sklearn.metrics import classification_report\n",
        "from sklearn.metrics import recall_score\n",
        "from sklearn.metrics import f1_score\n",
        "from sklearn.metrics import confusion_matrix\n",
        "from sklearn import preprocessing\n",
        "from sklearn.model_selection import train_test_split"
      ]
    },
    {
      "cell_type": "markdown",
      "source": [
        "# I will compare the performance of 7 different classification algorithms on the same dataset and decide which is the best."
      ],
      "metadata": {
        "id": "bHi-Vn2kX23M"
      }
    },
    {
      "cell_type": "markdown",
      "source": [
        "Reading in the dataset:\n",
        "This dataset contains information about some features of patients and the likelihood of having a heart attack.\n",
        "(output : 0= less chance of heart attack | 1= more chance of heart attack)\n",
        "\n",
        "The features of the dataset:\n",
        "\n",
        "*   Age : Age of the patient\n",
        "*   Sex : Sex of the patient\n",
        "*   exang: exercise induced angina (1 = yes; 0 = no)\n",
        "*   ca: number of major vessels (0-3)\n",
        "*   cp : Chest Pain type chest pain type(Value 1: typical angina | Value 2: atypical angina | Value 3: non-anginal pain | Value 4: asymptomatic)\n",
        "*   trtbps : resting blood pressure (in mm Hg)\n",
        "*   chol : cholestoral in mg/dl fetched via BMI sensor\n",
        "*   fbs : fasting blood sugar > 120 mg/dl (1 = true; 0 = false)\n",
        "*   rest_ecg : resting electrocardiographic results(Value 0: normal | Value 1: having ST-T wave abnormality | Value 2: showing probable or definite left ventricular hypertrophy by Estes' criteria)\n",
        "*   thalach : maximum heart rate achieved\n",
        "\n",
        "\n",
        "*   (https://www.kaggle.com/datasets/rashikrahmanpritom/heart-attack-analysis-prediction-dataset)\n"
      ],
      "metadata": {
        "id": "4UssRrD5ezvX"
      }
    },
    {
      "cell_type": "code",
      "source": [
        "heart_data = pd.read_csv('/content/heart.csv')"
      ],
      "metadata": {
        "id": "fR6pVmpfsJwu"
      },
      "execution_count": null,
      "outputs": []
    },
    {
      "cell_type": "code",
      "source": [
        "heart_data.head()"
      ],
      "metadata": {
        "id": "c66xcZu6zVgK",
        "colab": {
          "base_uri": "https://localhost:8080/",
          "height": 206
        },
        "outputId": "38f4f56e-0b20-4c48-832b-53911af2fc0e"
      },
      "execution_count": null,
      "outputs": [
        {
          "output_type": "execute_result",
          "data": {
            "text/plain": [
              "   age  sex  cp  trtbps  chol  fbs  restecg  thalachh  exng  oldpeak  slp  \\\n",
              "0   63    1   3     145   233    1        0       150     0      2.3    0   \n",
              "1   37    1   2     130   250    0        1       187     0      3.5    0   \n",
              "2   41    0   1     130   204    0        0       172     0      1.4    2   \n",
              "3   56    1   1     120   236    0        1       178     0      0.8    2   \n",
              "4   57    0   0     120   354    0        1       163     1      0.6    2   \n",
              "\n",
              "   caa  thall  output  \n",
              "0    0      1       1  \n",
              "1    0      2       1  \n",
              "2    0      2       1  \n",
              "3    0      2       1  \n",
              "4    0      2       1  "
            ],
            "text/html": [
              "\n",
              "  <div id=\"df-364af8e8-ba93-4a95-ad5e-ac4ed578fbeb\">\n",
              "    <div class=\"colab-df-container\">\n",
              "      <div>\n",
              "<style scoped>\n",
              "    .dataframe tbody tr th:only-of-type {\n",
              "        vertical-align: middle;\n",
              "    }\n",
              "\n",
              "    .dataframe tbody tr th {\n",
              "        vertical-align: top;\n",
              "    }\n",
              "\n",
              "    .dataframe thead th {\n",
              "        text-align: right;\n",
              "    }\n",
              "</style>\n",
              "<table border=\"1\" class=\"dataframe\">\n",
              "  <thead>\n",
              "    <tr style=\"text-align: right;\">\n",
              "      <th></th>\n",
              "      <th>age</th>\n",
              "      <th>sex</th>\n",
              "      <th>cp</th>\n",
              "      <th>trtbps</th>\n",
              "      <th>chol</th>\n",
              "      <th>fbs</th>\n",
              "      <th>restecg</th>\n",
              "      <th>thalachh</th>\n",
              "      <th>exng</th>\n",
              "      <th>oldpeak</th>\n",
              "      <th>slp</th>\n",
              "      <th>caa</th>\n",
              "      <th>thall</th>\n",
              "      <th>output</th>\n",
              "    </tr>\n",
              "  </thead>\n",
              "  <tbody>\n",
              "    <tr>\n",
              "      <th>0</th>\n",
              "      <td>63</td>\n",
              "      <td>1</td>\n",
              "      <td>3</td>\n",
              "      <td>145</td>\n",
              "      <td>233</td>\n",
              "      <td>1</td>\n",
              "      <td>0</td>\n",
              "      <td>150</td>\n",
              "      <td>0</td>\n",
              "      <td>2.3</td>\n",
              "      <td>0</td>\n",
              "      <td>0</td>\n",
              "      <td>1</td>\n",
              "      <td>1</td>\n",
              "    </tr>\n",
              "    <tr>\n",
              "      <th>1</th>\n",
              "      <td>37</td>\n",
              "      <td>1</td>\n",
              "      <td>2</td>\n",
              "      <td>130</td>\n",
              "      <td>250</td>\n",
              "      <td>0</td>\n",
              "      <td>1</td>\n",
              "      <td>187</td>\n",
              "      <td>0</td>\n",
              "      <td>3.5</td>\n",
              "      <td>0</td>\n",
              "      <td>0</td>\n",
              "      <td>2</td>\n",
              "      <td>1</td>\n",
              "    </tr>\n",
              "    <tr>\n",
              "      <th>2</th>\n",
              "      <td>41</td>\n",
              "      <td>0</td>\n",
              "      <td>1</td>\n",
              "      <td>130</td>\n",
              "      <td>204</td>\n",
              "      <td>0</td>\n",
              "      <td>0</td>\n",
              "      <td>172</td>\n",
              "      <td>0</td>\n",
              "      <td>1.4</td>\n",
              "      <td>2</td>\n",
              "      <td>0</td>\n",
              "      <td>2</td>\n",
              "      <td>1</td>\n",
              "    </tr>\n",
              "    <tr>\n",
              "      <th>3</th>\n",
              "      <td>56</td>\n",
              "      <td>1</td>\n",
              "      <td>1</td>\n",
              "      <td>120</td>\n",
              "      <td>236</td>\n",
              "      <td>0</td>\n",
              "      <td>1</td>\n",
              "      <td>178</td>\n",
              "      <td>0</td>\n",
              "      <td>0.8</td>\n",
              "      <td>2</td>\n",
              "      <td>0</td>\n",
              "      <td>2</td>\n",
              "      <td>1</td>\n",
              "    </tr>\n",
              "    <tr>\n",
              "      <th>4</th>\n",
              "      <td>57</td>\n",
              "      <td>0</td>\n",
              "      <td>0</td>\n",
              "      <td>120</td>\n",
              "      <td>354</td>\n",
              "      <td>0</td>\n",
              "      <td>1</td>\n",
              "      <td>163</td>\n",
              "      <td>1</td>\n",
              "      <td>0.6</td>\n",
              "      <td>2</td>\n",
              "      <td>0</td>\n",
              "      <td>2</td>\n",
              "      <td>1</td>\n",
              "    </tr>\n",
              "  </tbody>\n",
              "</table>\n",
              "</div>\n",
              "      <button class=\"colab-df-convert\" onclick=\"convertToInteractive('df-364af8e8-ba93-4a95-ad5e-ac4ed578fbeb')\"\n",
              "              title=\"Convert this dataframe to an interactive table.\"\n",
              "              style=\"display:none;\">\n",
              "        \n",
              "  <svg xmlns=\"http://www.w3.org/2000/svg\" height=\"24px\"viewBox=\"0 0 24 24\"\n",
              "       width=\"24px\">\n",
              "    <path d=\"M0 0h24v24H0V0z\" fill=\"none\"/>\n",
              "    <path d=\"M18.56 5.44l.94 2.06.94-2.06 2.06-.94-2.06-.94-.94-2.06-.94 2.06-2.06.94zm-11 1L8.5 8.5l.94-2.06 2.06-.94-2.06-.94L8.5 2.5l-.94 2.06-2.06.94zm10 10l.94 2.06.94-2.06 2.06-.94-2.06-.94-.94-2.06-.94 2.06-2.06.94z\"/><path d=\"M17.41 7.96l-1.37-1.37c-.4-.4-.92-.59-1.43-.59-.52 0-1.04.2-1.43.59L10.3 9.45l-7.72 7.72c-.78.78-.78 2.05 0 2.83L4 21.41c.39.39.9.59 1.41.59.51 0 1.02-.2 1.41-.59l7.78-7.78 2.81-2.81c.8-.78.8-2.07 0-2.86zM5.41 20L4 18.59l7.72-7.72 1.47 1.35L5.41 20z\"/>\n",
              "  </svg>\n",
              "      </button>\n",
              "      \n",
              "  <style>\n",
              "    .colab-df-container {\n",
              "      display:flex;\n",
              "      flex-wrap:wrap;\n",
              "      gap: 12px;\n",
              "    }\n",
              "\n",
              "    .colab-df-convert {\n",
              "      background-color: #E8F0FE;\n",
              "      border: none;\n",
              "      border-radius: 50%;\n",
              "      cursor: pointer;\n",
              "      display: none;\n",
              "      fill: #1967D2;\n",
              "      height: 32px;\n",
              "      padding: 0 0 0 0;\n",
              "      width: 32px;\n",
              "    }\n",
              "\n",
              "    .colab-df-convert:hover {\n",
              "      background-color: #E2EBFA;\n",
              "      box-shadow: 0px 1px 2px rgba(60, 64, 67, 0.3), 0px 1px 3px 1px rgba(60, 64, 67, 0.15);\n",
              "      fill: #174EA6;\n",
              "    }\n",
              "\n",
              "    [theme=dark] .colab-df-convert {\n",
              "      background-color: #3B4455;\n",
              "      fill: #D2E3FC;\n",
              "    }\n",
              "\n",
              "    [theme=dark] .colab-df-convert:hover {\n",
              "      background-color: #434B5C;\n",
              "      box-shadow: 0px 1px 3px 1px rgba(0, 0, 0, 0.15);\n",
              "      filter: drop-shadow(0px 1px 2px rgba(0, 0, 0, 0.3));\n",
              "      fill: #FFFFFF;\n",
              "    }\n",
              "  </style>\n",
              "\n",
              "      <script>\n",
              "        const buttonEl =\n",
              "          document.querySelector('#df-364af8e8-ba93-4a95-ad5e-ac4ed578fbeb button.colab-df-convert');\n",
              "        buttonEl.style.display =\n",
              "          google.colab.kernel.accessAllowed ? 'block' : 'none';\n",
              "\n",
              "        async function convertToInteractive(key) {\n",
              "          const element = document.querySelector('#df-364af8e8-ba93-4a95-ad5e-ac4ed578fbeb');\n",
              "          const dataTable =\n",
              "            await google.colab.kernel.invokeFunction('convertToInteractive',\n",
              "                                                     [key], {});\n",
              "          if (!dataTable) return;\n",
              "\n",
              "          const docLinkHtml = 'Like what you see? Visit the ' +\n",
              "            '<a target=\"_blank\" href=https://colab.research.google.com/notebooks/data_table.ipynb>data table notebook</a>'\n",
              "            + ' to learn more about interactive tables.';\n",
              "          element.innerHTML = '';\n",
              "          dataTable['output_type'] = 'display_data';\n",
              "          await google.colab.output.renderOutput(dataTable, element);\n",
              "          const docLink = document.createElement('div');\n",
              "          docLink.innerHTML = docLinkHtml;\n",
              "          element.appendChild(docLink);\n",
              "        }\n",
              "      </script>\n",
              "    </div>\n",
              "  </div>\n",
              "  "
            ]
          },
          "metadata": {},
          "execution_count": 148
        }
      ]
    },
    {
      "cell_type": "code",
      "source": [
        "heart_data['age'].count()"
      ],
      "metadata": {
        "colab": {
          "base_uri": "https://localhost:8080/"
        },
        "id": "PuiF0oYoq9Rk",
        "outputId": "b6e005cb-9e5a-4a2a-c210-9caf4a99cb56"
      },
      "execution_count": null,
      "outputs": [
        {
          "output_type": "execute_result",
          "data": {
            "text/plain": [
              "303"
            ]
          },
          "metadata": {},
          "execution_count": 149
        }
      ]
    },
    {
      "cell_type": "markdown",
      "source": [
        "We can see here that the is no null values in the heart_data dataset and there are no duplicates"
      ],
      "metadata": {
        "id": "i7pSWrLMsPo4"
      }
    },
    {
      "cell_type": "code",
      "source": [
        "print(heart_data.isna().sum())\n",
        "duplicate = heart_data[heart_data.duplicated(keep='last')]\n",
        "duplicate.shape"
      ],
      "metadata": {
        "id": "mKxzaXhysIjO",
        "colab": {
          "base_uri": "https://localhost:8080/"
        },
        "outputId": "965d8e96-0ae1-4ce7-9fba-04495463b58e"
      },
      "execution_count": null,
      "outputs": [
        {
          "output_type": "stream",
          "name": "stdout",
          "text": [
            "age         0\n",
            "sex         0\n",
            "cp          0\n",
            "trtbps      0\n",
            "chol        0\n",
            "fbs         0\n",
            "restecg     0\n",
            "thalachh    0\n",
            "exng        0\n",
            "oldpeak     0\n",
            "slp         0\n",
            "caa         0\n",
            "thall       0\n",
            "output      0\n",
            "dtype: int64\n"
          ]
        },
        {
          "output_type": "execute_result",
          "data": {
            "text/plain": [
              "(1, 14)"
            ]
          },
          "metadata": {},
          "execution_count": 150
        }
      ]
    },
    {
      "cell_type": "markdown",
      "source": [
        "Splitting the data into input and output, train and test"
      ],
      "metadata": {
        "id": "2THkXx-KqMTF"
      }
    },
    {
      "cell_type": "code",
      "source": [
        "X=heart_data.drop('output',axis=1)\n",
        "y=heart_data['output']\n",
        "\n",
        "\n",
        "X_train, X_test, y_train, y_test=train_test_split(X,y,test_size=0.25,stratify=y)"
      ],
      "metadata": {
        "id": "G0a0vVG9qNLL"
      },
      "execution_count": null,
      "outputs": []
    },
    {
      "cell_type": "markdown",
      "source": [
        "The calsses are balanced by default, so we dont have to do anything with that:"
      ],
      "metadata": {
        "id": "B4SM9sXWrElm"
      }
    },
    {
      "cell_type": "code",
      "source": [
        "y_train.value_counts()"
      ],
      "metadata": {
        "colab": {
          "base_uri": "https://localhost:8080/"
        },
        "id": "AlQYU87jp8WE",
        "outputId": "d9dac034-4f5c-4dd9-c9ea-eb60c737a57b"
      },
      "execution_count": null,
      "outputs": [
        {
          "output_type": "execute_result",
          "data": {
            "text/plain": [
              "1    124\n",
              "0    103\n",
              "Name: output, dtype: int64"
            ]
          },
          "metadata": {},
          "execution_count": 152
        }
      ]
    },
    {
      "cell_type": "markdown",
      "source": [
        "we have to do some scaling in order for the alogrithm to work efficiently:"
      ],
      "metadata": {
        "id": "xw5uzBSytFHF"
      }
    },
    {
      "cell_type": "code",
      "source": [
        "from sklearn.preprocessing import StandardScaler  \n",
        "scaler = StandardScaler()\n",
        "scaler.fit(X_train)\n",
        "\n",
        "X_train = scaler.transform(X_train) \n",
        "X_test = scaler.transform(X_test)"
      ],
      "metadata": {
        "id": "E0ZqUfFiqUXt"
      },
      "execution_count": null,
      "outputs": []
    },
    {
      "cell_type": "markdown",
      "source": [
        "Next i will instasiate the MLP(Multilayer Perceptron) Classifier, and fit the model to the data. We have some scores to measure the algorithm.\n",
        "Scores(The higher the number the better the algorithm):\n",
        "\n",
        "*   Confusion Matrix\n",
        "*   Accuracy: (TP+TN)/(TP+FP+TN+FN) \n",
        "*   Precision: (TP)/(TP+FP)\n",
        "\n",
        "*   Recall: (TP)/(TP+FN)\n",
        "*   F1 score:2*((precision*recall)/(precisio+recall))"
      ],
      "metadata": {
        "id": "p73aLfRCwnVH"
      }
    },
    {
      "cell_type": "code",
      "source": [
        "mlp = MLPClassifier(hidden_layer_sizes=(50,), max_iter=50, alpha=1e-4,\n",
        "                    solver='adam', verbose=10, activation='relu', random_state=1,\n",
        "                    learning_rate_init=0.1)\n",
        "\n",
        "\n",
        "mlp.fit(X_train, y_train)\n",
        "mlp_score=mlp.score(X_train, y_train)\n",
        "print(\"Training set score: %f\" % mlp_score)\n",
        "print(\"Test set score: %f\" % mlp.score(X_test, y_test))"
      ],
      "metadata": {
        "colab": {
          "base_uri": "https://localhost:8080/"
        },
        "id": "U-qoKf0lsMlm",
        "outputId": "30507fc2-f00d-49c9-f19e-a8f8475a8c62"
      },
      "execution_count": null,
      "outputs": [
        {
          "output_type": "stream",
          "name": "stdout",
          "text": [
            "Iteration 1, loss = 0.72680957\n",
            "Iteration 2, loss = 0.37081074\n",
            "Iteration 3, loss = 0.35300210\n",
            "Iteration 4, loss = 0.37889418\n",
            "Iteration 5, loss = 0.30333785\n",
            "Iteration 6, loss = 0.35433521\n",
            "Iteration 7, loss = 0.33134458\n",
            "Iteration 8, loss = 0.33303388\n",
            "Iteration 9, loss = 0.26795896\n",
            "Iteration 10, loss = 0.25501936\n",
            "Iteration 11, loss = 0.21995701\n",
            "Iteration 12, loss = 0.25056878\n",
            "Iteration 13, loss = 0.23825977\n",
            "Iteration 14, loss = 0.25111930\n",
            "Iteration 15, loss = 0.25185875\n",
            "Iteration 16, loss = 0.20013062\n",
            "Iteration 17, loss = 0.19501216\n",
            "Iteration 18, loss = 0.21100152\n",
            "Iteration 19, loss = 0.18530990\n",
            "Iteration 20, loss = 0.15929954\n",
            "Iteration 21, loss = 0.16370038\n",
            "Iteration 22, loss = 0.15044205\n",
            "Iteration 23, loss = 0.15440229\n",
            "Iteration 24, loss = 0.15546570\n",
            "Iteration 25, loss = 0.14546695\n",
            "Iteration 26, loss = 0.13626121\n",
            "Iteration 27, loss = 0.13190747\n",
            "Iteration 28, loss = 0.11542884\n",
            "Iteration 29, loss = 0.08641921\n",
            "Iteration 30, loss = 0.07899996\n",
            "Iteration 31, loss = 0.10117194\n",
            "Iteration 32, loss = 0.09535467\n",
            "Iteration 33, loss = 0.07532676\n",
            "Iteration 34, loss = 0.09715400\n",
            "Iteration 35, loss = 0.08496334\n",
            "Iteration 36, loss = 0.06851691\n",
            "Iteration 37, loss = 0.08543141\n",
            "Iteration 38, loss = 0.09358308\n",
            "Iteration 39, loss = 0.05968424\n",
            "Iteration 40, loss = 0.06217474\n",
            "Iteration 41, loss = 0.10691498\n",
            "Iteration 42, loss = 0.07848152\n",
            "Iteration 43, loss = 0.05539359\n",
            "Iteration 44, loss = 0.04850638\n",
            "Iteration 45, loss = 0.04720908\n",
            "Iteration 46, loss = 0.04494132\n",
            "Iteration 47, loss = 0.03287394\n",
            "Iteration 48, loss = 0.04096953\n",
            "Iteration 49, loss = 0.03334372\n",
            "Iteration 50, loss = 0.05182452\n",
            "Training set score: 0.982379\n",
            "Test set score: 0.763158\n"
          ]
        },
        {
          "output_type": "stream",
          "name": "stderr",
          "text": [
            "/usr/local/lib/python3.7/dist-packages/sklearn/neural_network/_multilayer_perceptron.py:696: ConvergenceWarning: Stochastic Optimizer: Maximum iterations (50) reached and the optimization hasn't converged yet.\n",
            "  ConvergenceWarning,\n"
          ]
        }
      ]
    },
    {
      "cell_type": "markdown",
      "source": [
        "Next step is to do the prediction. We can see some more scores."
      ],
      "metadata": {
        "id": "jEKmTSY7xkVW"
      }
    },
    {
      "cell_type": "code",
      "source": [
        "MLP_predict = mlp.predict(X_test)\n",
        "\n",
        "accuracy_MLP = accuracy_score(y_test, MLP_predict)\n",
        "print('Accuracy: ',accuracy_MLP)\n",
        "\n",
        "print(classification_report(y_test,MLP_predict))"
      ],
      "metadata": {
        "colab": {
          "base_uri": "https://localhost:8080/"
        },
        "id": "pySiUplqxDB2",
        "outputId": "7963e63c-2023-4e95-c7e4-25f629c55daa"
      },
      "execution_count": null,
      "outputs": [
        {
          "output_type": "stream",
          "name": "stdout",
          "text": [
            "Accuracy:  0.7631578947368421\n",
            "              precision    recall  f1-score   support\n",
            "\n",
            "           0       0.76      0.71      0.74        35\n",
            "           1       0.77      0.80      0.79        41\n",
            "\n",
            "    accuracy                           0.76        76\n",
            "   macro avg       0.76      0.76      0.76        76\n",
            "weighted avg       0.76      0.76      0.76        76\n",
            "\n"
          ]
        }
      ]
    },
    {
      "cell_type": "code",
      "source": [
        "recall_MLP = recall_score(y_test, MLP_predict)\n",
        "f1_MLP = f1_score(y_test, MLP_predict)\n",
        "matrix_MLP = confusion_matrix(y_test, MLP_predict)\n",
        "print(matrix_MLP)"
      ],
      "metadata": {
        "colab": {
          "base_uri": "https://localhost:8080/"
        },
        "id": "J4Z624CosZJW",
        "outputId": "bad18bc2-28be-41e2-a674-d294bd65faf9"
      },
      "execution_count": null,
      "outputs": [
        {
          "output_type": "stream",
          "name": "stdout",
          "text": [
            "[[25 10]\n",
            " [ 8 33]]\n"
          ]
        }
      ]
    },
    {
      "cell_type": "markdown",
      "source": [
        "Prediction using Logistic Regression algortihm"
      ],
      "metadata": {
        "id": "R9nSWU0LDiMp"
      }
    },
    {
      "cell_type": "code",
      "source": [
        "from sklearn.linear_model import LogisticRegression\n",
        "classifier = LogisticRegression(solver='lbfgs',random_state=0)\n",
        "classifier.fit(X_train, y_train)\n",
        "lr_score = classifier.score(X_train, y_train)\n",
        "print(\"Training set score: %f\" % lr_score)\n",
        "print(\"Test set score: %f\" % classifier.score(X_test, y_test))"
      ],
      "metadata": {
        "id": "MAOfZl7_AwGz",
        "colab": {
          "base_uri": "https://localhost:8080/"
        },
        "outputId": "e5bea14d-1c56-4692-c43a-cdfb7aa98801"
      },
      "execution_count": null,
      "outputs": [
        {
          "output_type": "stream",
          "name": "stdout",
          "text": [
            "Training set score: 0.837004\n",
            "Test set score: 0.842105\n"
          ]
        }
      ]
    },
    {
      "cell_type": "code",
      "source": [
        "LR_predict = classifier.predict(X_test)\n",
        "\n",
        "accuracy_LR = accuracy_score(y_test, LR_predict)\n",
        "\n",
        "print('Accuracy: ',accuracy_LR)\n",
        "print(classification_report(y_test,LR_predict))"
      ],
      "metadata": {
        "colab": {
          "base_uri": "https://localhost:8080/"
        },
        "id": "VrzlyBSSDEx3",
        "outputId": "ca75d443-2fe0-45f6-ee23-53d52474163c"
      },
      "execution_count": null,
      "outputs": [
        {
          "output_type": "stream",
          "name": "stdout",
          "text": [
            "Accuracy:  0.8421052631578947\n",
            "              precision    recall  f1-score   support\n",
            "\n",
            "           0       0.87      0.77      0.82        35\n",
            "           1       0.82      0.90      0.86        41\n",
            "\n",
            "    accuracy                           0.84        76\n",
            "   macro avg       0.85      0.84      0.84        76\n",
            "weighted avg       0.84      0.84      0.84        76\n",
            "\n"
          ]
        }
      ]
    },
    {
      "cell_type": "code",
      "source": [
        "recall_LR = recall_score(y_test, LR_predict)\n",
        "# f1: 2 tp / (2 tp + fp + fn)\n",
        "f1_LR = f1_score(y_test, LR_predict)\n",
        "matrix_LR = confusion_matrix(y_test, LR_predict)\n",
        "print(matrix_LR)"
      ],
      "metadata": {
        "colab": {
          "base_uri": "https://localhost:8080/"
        },
        "id": "SjkauJ3xtnq7",
        "outputId": "feb464b2-ba4b-4525-96de-c2695e2cf3cc"
      },
      "execution_count": null,
      "outputs": [
        {
          "output_type": "stream",
          "name": "stdout",
          "text": [
            "[[27  8]\n",
            " [ 4 37]]\n"
          ]
        }
      ]
    },
    {
      "cell_type": "markdown",
      "source": [
        "Prediction using Decision Tree Classifier algorithm:"
      ],
      "metadata": {
        "id": "nC7NLI3ZJOIs"
      }
    },
    {
      "cell_type": "code",
      "source": [
        "from sklearn.tree import DecisionTreeClassifier\n",
        "dtc = DecisionTreeClassifier()\n",
        "\n",
        "dtc.fit(X_train, y_train)\n",
        "dtc_score=dtc.score(X_train, y_train)\n",
        "print(\"Training set score: %f\" % dtc_score)\n",
        "print(\"Test set score: %f\" % dtc.score(X_test, y_test))"
      ],
      "metadata": {
        "colab": {
          "base_uri": "https://localhost:8080/"
        },
        "id": "cIHUaQnxEQQE",
        "outputId": "ad5072d8-8792-4b97-938b-e107211e578b"
      },
      "execution_count": null,
      "outputs": [
        {
          "output_type": "stream",
          "name": "stdout",
          "text": [
            "Training set score: 1.000000\n",
            "Test set score: 0.697368\n"
          ]
        }
      ]
    },
    {
      "cell_type": "code",
      "source": [
        "DTC_predict = dtc.predict(X_test)\n",
        "\n",
        "accuracy_DTC = accuracy_score(y_test, DTC_predict)\n",
        "print('Accuracy: ',accuracy_DTC)\n",
        "\n",
        "print(classification_report(y_test,DTC_predict))"
      ],
      "metadata": {
        "colab": {
          "base_uri": "https://localhost:8080/"
        },
        "id": "oGKoSlksIkcX",
        "outputId": "80f36e18-4eee-4e8f-8ce1-b9f8670a4be4"
      },
      "execution_count": null,
      "outputs": [
        {
          "output_type": "stream",
          "name": "stdout",
          "text": [
            "Accuracy:  0.6973684210526315\n",
            "              precision    recall  f1-score   support\n",
            "\n",
            "           0       0.68      0.66      0.67        35\n",
            "           1       0.71      0.73      0.72        41\n",
            "\n",
            "    accuracy                           0.70        76\n",
            "   macro avg       0.70      0.69      0.69        76\n",
            "weighted avg       0.70      0.70      0.70        76\n",
            "\n"
          ]
        }
      ]
    },
    {
      "cell_type": "code",
      "source": [
        "recall_DTC = recall_score(y_test, DTC_predict)\n",
        "# f1: 2 tp / (2 tp + fp + fn)\n",
        "f1_DTC = f1_score(y_test, DTC_predict)\n",
        "matrix_DTC = confusion_matrix(y_test, DTC_predict)\n",
        "print(matrix_DTC)"
      ],
      "metadata": {
        "colab": {
          "base_uri": "https://localhost:8080/"
        },
        "id": "5F0XA1t6t7jh",
        "outputId": "9f7c0f57-8e95-4021-9ead-8bc5c129d47a"
      },
      "execution_count": null,
      "outputs": [
        {
          "output_type": "stream",
          "name": "stdout",
          "text": [
            "[[23 12]\n",
            " [11 30]]\n"
          ]
        }
      ]
    },
    {
      "cell_type": "markdown",
      "source": [
        "Prediction using Random Forest Classifier algorithm:"
      ],
      "metadata": {
        "id": "sPF8bRKZYrze"
      }
    },
    {
      "cell_type": "code",
      "source": [
        "from sklearn.ensemble import RandomForestClassifier\n",
        "rfc = RandomForestClassifier()\n",
        "\n",
        "rfc.fit(X_train, y_train)\n",
        "rfc_score=rfc.score(X_train, y_train)\n",
        "print(\"Training set score: %f\" % rfc_score)\n",
        "print(\"Test set score: %f\" % rfc.score(X_test, y_test))"
      ],
      "metadata": {
        "colab": {
          "base_uri": "https://localhost:8080/"
        },
        "id": "karSqS5-Xp-F",
        "outputId": "4ce5542a-b003-4100-cd7e-001da90f0323"
      },
      "execution_count": null,
      "outputs": [
        {
          "output_type": "stream",
          "name": "stdout",
          "text": [
            "Training set score: 1.000000\n",
            "Test set score: 0.789474\n"
          ]
        }
      ]
    },
    {
      "cell_type": "code",
      "source": [
        "RFC_predict = rfc.predict(X_test)\n",
        "\n",
        "accuracy_RFC = accuracy_score(y_test, RFC_predict)\n",
        "print('Accuracy: ',accuracy_RFC)\n",
        "\n",
        "print(classification_report(y_test,RFC_predict))"
      ],
      "metadata": {
        "colab": {
          "base_uri": "https://localhost:8080/"
        },
        "id": "bHxD5I3PXxGM",
        "outputId": "5724b8d3-fbf1-49bd-b952-61a86f49b890"
      },
      "execution_count": null,
      "outputs": [
        {
          "output_type": "stream",
          "name": "stdout",
          "text": [
            "Accuracy:  0.7894736842105263\n",
            "              precision    recall  f1-score   support\n",
            "\n",
            "           0       0.81      0.71      0.76        35\n",
            "           1       0.78      0.85      0.81        41\n",
            "\n",
            "    accuracy                           0.79        76\n",
            "   macro avg       0.79      0.78      0.79        76\n",
            "weighted avg       0.79      0.79      0.79        76\n",
            "\n"
          ]
        }
      ]
    },
    {
      "cell_type": "code",
      "source": [
        "recall_RFC = recall_score(y_test, RFC_predict)\n",
        "# f1: 2 tp / (2 tp + fp + fn)\n",
        "f1_RFC = f1_score(y_test, RFC_predict)\n",
        "matrix_RFC = confusion_matrix(y_test, RFC_predict)\n",
        "print(matrix_RFC)"
      ],
      "metadata": {
        "colab": {
          "base_uri": "https://localhost:8080/"
        },
        "id": "II_CmND9uRmE",
        "outputId": "89d908a5-561a-424e-d26f-dbb29cfd5da7"
      },
      "execution_count": null,
      "outputs": [
        {
          "output_type": "stream",
          "name": "stdout",
          "text": [
            "[[25 10]\n",
            " [ 6 35]]\n"
          ]
        }
      ]
    },
    {
      "cell_type": "markdown",
      "source": [
        "Prediction Using the Support Vector Machine algorithm:"
      ],
      "metadata": {
        "id": "kqXHlQ8iYyiX"
      }
    },
    {
      "cell_type": "code",
      "source": [
        "from sklearn.svm import SVC\n",
        "svc = SVC()\n",
        "svc.fit(X_train, y_train)\n",
        "svc_score=svc.score(X_train, y_train)\n",
        "print(\"Training set score: %f\" %svc_score)\n",
        "print(\"Test set score: %f\" % svc.score(X_test, y_test))"
      ],
      "metadata": {
        "colab": {
          "base_uri": "https://localhost:8080/"
        },
        "id": "VfpB7KNeYC6P",
        "outputId": "5c3cb0e8-aedd-4b3f-eb5e-975e9100d5b2"
      },
      "execution_count": null,
      "outputs": [
        {
          "output_type": "stream",
          "name": "stdout",
          "text": [
            "Training set score: 0.938326\n",
            "Test set score: 0.802632\n"
          ]
        }
      ]
    },
    {
      "cell_type": "code",
      "source": [
        "SVC_predict = svc.predict(X_test)\n",
        "\n",
        "accuracy_SVC = accuracy_score(y_test, SVC_predict)\n",
        "print('Accuracy: ',accuracy_SVC)\n",
        "\n",
        "print(classification_report(y_test,SVC_predict))"
      ],
      "metadata": {
        "colab": {
          "base_uri": "https://localhost:8080/"
        },
        "id": "yNrKS9BoYQBE",
        "outputId": "73847c94-6b96-47dd-d50a-60380f4c074b"
      },
      "execution_count": null,
      "outputs": [
        {
          "output_type": "stream",
          "name": "stdout",
          "text": [
            "Accuracy:  0.8026315789473685\n",
            "              precision    recall  f1-score   support\n",
            "\n",
            "           0       0.83      0.71      0.77        35\n",
            "           1       0.78      0.88      0.83        41\n",
            "\n",
            "    accuracy                           0.80        76\n",
            "   macro avg       0.81      0.80      0.80        76\n",
            "weighted avg       0.81      0.80      0.80        76\n",
            "\n"
          ]
        }
      ]
    },
    {
      "cell_type": "code",
      "source": [
        "recall_SVC = recall_score(y_test, SVC_predict)\n",
        "# f1: 2 tp / (2 tp + fp + fn)\n",
        "f1_SVC = f1_score(y_test, SVC_predict)\n",
        "matrix_SVC = confusion_matrix(y_test, SVC_predict)\n",
        "print(matrix_SVC)"
      ],
      "metadata": {
        "colab": {
          "base_uri": "https://localhost:8080/"
        },
        "id": "PHtRxiYOueA-",
        "outputId": "91d1fb62-da5a-4c8e-b7dc-afc67e420f6f"
      },
      "execution_count": null,
      "outputs": [
        {
          "output_type": "stream",
          "name": "stdout",
          "text": [
            "[[25 10]\n",
            " [ 5 36]]\n"
          ]
        }
      ]
    },
    {
      "cell_type": "markdown",
      "source": [
        "Prediction using the K-Nearest Neighbour algorithm:"
      ],
      "metadata": {
        "id": "j5zOS2SMZZeq"
      }
    },
    {
      "cell_type": "code",
      "source": [
        "from sklearn.neighbors import KNeighborsClassifier\n",
        "knn = KNeighborsClassifier()\n",
        "knn.fit(X_train, y_train)\n",
        "knn_score=knn.score(X_train, y_train)\n",
        "print(\"Training set score: %f\" % knn_score)\n",
        "print(\"Test set score: %f\" % knn.score(X_test, y_test))"
      ],
      "metadata": {
        "colab": {
          "base_uri": "https://localhost:8080/"
        },
        "id": "QT6BDSdqY7qj",
        "outputId": "24c19484-5264-4721-e6b0-4733370a29b8"
      },
      "execution_count": null,
      "outputs": [
        {
          "output_type": "stream",
          "name": "stdout",
          "text": [
            "Training set score: 0.876652\n",
            "Test set score: 0.802632\n"
          ]
        }
      ]
    },
    {
      "cell_type": "code",
      "source": [
        "KNN_predict = knn.predict(X_test)\n",
        "\n",
        "accuracy_KNN = accuracy_score(y_test, KNN_predict)\n",
        "print('Accuracy: ',accuracy_KNN)\n",
        "\n",
        "print(classification_report(y_test,KNN_predict))"
      ],
      "metadata": {
        "colab": {
          "base_uri": "https://localhost:8080/"
        },
        "id": "DubuHGduZJVX",
        "outputId": "ff91e153-f0cc-4bbf-cb64-ce179b4d3eda"
      },
      "execution_count": null,
      "outputs": [
        {
          "output_type": "stream",
          "name": "stdout",
          "text": [
            "Accuracy:  0.8026315789473685\n",
            "              precision    recall  f1-score   support\n",
            "\n",
            "           0       0.81      0.74      0.78        35\n",
            "           1       0.80      0.85      0.82        41\n",
            "\n",
            "    accuracy                           0.80        76\n",
            "   macro avg       0.80      0.80      0.80        76\n",
            "weighted avg       0.80      0.80      0.80        76\n",
            "\n"
          ]
        }
      ]
    },
    {
      "cell_type": "code",
      "source": [
        "recall_KNN = recall_score(y_test, KNN_predict)\n",
        "# f1: 2 tp / (2 tp + fp + fn)\n",
        "f1_KNN = f1_score(y_test, KNN_predict)\n",
        "matrix_KNN = confusion_matrix(y_test, KNN_predict)\n",
        "print(matrix_KNN)"
      ],
      "metadata": {
        "colab": {
          "base_uri": "https://localhost:8080/"
        },
        "id": "1PDQczDMun9s",
        "outputId": "89b076e7-13e5-4ca7-88d6-0398a16a20d4"
      },
      "execution_count": null,
      "outputs": [
        {
          "output_type": "stream",
          "name": "stdout",
          "text": [
            "[[26  9]\n",
            " [ 6 35]]\n"
          ]
        }
      ]
    },
    {
      "cell_type": "markdown",
      "source": [
        "Prediction using the Naive Bayes algorithm:"
      ],
      "metadata": {
        "id": "tvSPkfmQZj-9"
      }
    },
    {
      "cell_type": "code",
      "source": [
        "from sklearn.naive_bayes import GaussianNB\n",
        "gnb = GaussianNB()\n",
        "gnb.fit(X_train, y_train)\n",
        "gnb_score=gnb.score(X_train, y_train)\n",
        "print(\"Training set score: %f\" % gnb_score)\n",
        "print(\"Test set score: %f\" % gnb.score(X_test, y_test))"
      ],
      "metadata": {
        "colab": {
          "base_uri": "https://localhost:8080/"
        },
        "id": "HuLU9yvOaF8p",
        "outputId": "c6774962-761a-4964-ee37-6637b5e5012d"
      },
      "execution_count": null,
      "outputs": [
        {
          "output_type": "stream",
          "name": "stdout",
          "text": [
            "Training set score: 0.841410\n",
            "Test set score: 0.802632\n"
          ]
        }
      ]
    },
    {
      "cell_type": "code",
      "source": [
        "GNB_predict = gnb.predict(X_test)\n",
        "\n",
        "accuracy_GNB = accuracy_score(y_test, GNB_predict)\n",
        "print('Accuracy: ',accuracy_GNB)\n",
        "\n",
        "print(classification_report(y_test,GNB_predict))"
      ],
      "metadata": {
        "colab": {
          "base_uri": "https://localhost:8080/"
        },
        "id": "IjJskewiaL7e",
        "outputId": "b32fb73c-cabd-4d41-93af-6741c04b818e"
      },
      "execution_count": null,
      "outputs": [
        {
          "output_type": "stream",
          "name": "stdout",
          "text": [
            "Accuracy:  0.8026315789473685\n",
            "              precision    recall  f1-score   support\n",
            "\n",
            "           0       0.79      0.77      0.78        35\n",
            "           1       0.81      0.83      0.82        41\n",
            "\n",
            "    accuracy                           0.80        76\n",
            "   macro avg       0.80      0.80      0.80        76\n",
            "weighted avg       0.80      0.80      0.80        76\n",
            "\n"
          ]
        }
      ]
    },
    {
      "cell_type": "code",
      "source": [
        "recall_GNB = recall_score(y_test, GNB_predict)\n",
        "# f1: 2 tp / (2 tp + fp + fn)\n",
        "f1_GNB = f1_score(y_test, GNB_predict)\n",
        "matrix_GNB = confusion_matrix(y_test, GNB_predict)\n",
        "print(matrix_GNB)"
      ],
      "metadata": {
        "colab": {
          "base_uri": "https://localhost:8080/"
        },
        "id": "U7ENYMlMu045",
        "outputId": "32a261c0-3cf0-471a-d3c4-7632a6f318ea"
      },
      "execution_count": null,
      "outputs": [
        {
          "output_type": "stream",
          "name": "stdout",
          "text": [
            "[[27  8]\n",
            " [ 7 34]]\n"
          ]
        }
      ]
    },
    {
      "cell_type": "markdown",
      "source": [
        "Table of the accuracy scores and the training set scores:"
      ],
      "metadata": {
        "id": "dLAN3cWTR3IG"
      }
    },
    {
      "cell_type": "code",
      "source": [
        "acc_scores=[accuracy_MLP,accuracy_LR,accuracy_DTC,accuracy_RFC,accuracy_SVC,accuracy_KNN,accuracy_GNB]\n",
        "\n",
        "training_set_score=[mlp_score,lr_score,dtc_score,rfc_score,svc_score,knn_score,gnb_score]\n",
        "\n",
        "f1_scores=[f1_MLP,f1_LR,f1_DTC,f1_RFC,f1_SVC,f1_KNN,f1_GNB]\n",
        "\n",
        "recall_scores=[recall_MLP,recall_LR,recall_DTC,recall_RFC,recall_SVC,recall_KNN,recall_GNB]\n",
        "\n",
        "algorithms=['MLP','LR','DTC','RFC','SVC','KNN','GNB']\n",
        "\n",
        "accuracy_df=pd.DataFrame({'Accuracy_score': acc_scores, 'Trainig_score': training_set_score,'F1_scores': f1_scores,'Recall':recall_scores},index=algorithms)\n",
        "\n",
        "accuracy_df"
      ],
      "metadata": {
        "colab": {
          "base_uri": "https://localhost:8080/",
          "height": 269
        },
        "id": "gapoqzUUHTwP",
        "outputId": "30eced5b-afa3-4270-a40e-6e5aef273b75"
      },
      "execution_count": null,
      "outputs": [
        {
          "output_type": "execute_result",
          "data": {
            "text/plain": [
              "     Accuracy_score  Trainig_score  F1_scores    Recall\n",
              "MLP        0.763158       0.982379   0.785714  0.804878\n",
              "LR         0.842105       0.837004   0.860465  0.902439\n",
              "DTC        0.697368       1.000000   0.722892  0.731707\n",
              "RFC        0.789474       1.000000   0.813953  0.853659\n",
              "SVC        0.802632       0.938326   0.827586  0.878049\n",
              "KNN        0.802632       0.876652   0.823529  0.853659\n",
              "GNB        0.802632       0.841410   0.819277  0.829268"
            ],
            "text/html": [
              "\n",
              "  <div id=\"df-dcc5ad0c-d669-40cd-8bf1-fd51362aff2e\">\n",
              "    <div class=\"colab-df-container\">\n",
              "      <div>\n",
              "<style scoped>\n",
              "    .dataframe tbody tr th:only-of-type {\n",
              "        vertical-align: middle;\n",
              "    }\n",
              "\n",
              "    .dataframe tbody tr th {\n",
              "        vertical-align: top;\n",
              "    }\n",
              "\n",
              "    .dataframe thead th {\n",
              "        text-align: right;\n",
              "    }\n",
              "</style>\n",
              "<table border=\"1\" class=\"dataframe\">\n",
              "  <thead>\n",
              "    <tr style=\"text-align: right;\">\n",
              "      <th></th>\n",
              "      <th>Accuracy_score</th>\n",
              "      <th>Trainig_score</th>\n",
              "      <th>F1_scores</th>\n",
              "      <th>Recall</th>\n",
              "    </tr>\n",
              "  </thead>\n",
              "  <tbody>\n",
              "    <tr>\n",
              "      <th>MLP</th>\n",
              "      <td>0.763158</td>\n",
              "      <td>0.982379</td>\n",
              "      <td>0.785714</td>\n",
              "      <td>0.804878</td>\n",
              "    </tr>\n",
              "    <tr>\n",
              "      <th>LR</th>\n",
              "      <td>0.842105</td>\n",
              "      <td>0.837004</td>\n",
              "      <td>0.860465</td>\n",
              "      <td>0.902439</td>\n",
              "    </tr>\n",
              "    <tr>\n",
              "      <th>DTC</th>\n",
              "      <td>0.697368</td>\n",
              "      <td>1.000000</td>\n",
              "      <td>0.722892</td>\n",
              "      <td>0.731707</td>\n",
              "    </tr>\n",
              "    <tr>\n",
              "      <th>RFC</th>\n",
              "      <td>0.789474</td>\n",
              "      <td>1.000000</td>\n",
              "      <td>0.813953</td>\n",
              "      <td>0.853659</td>\n",
              "    </tr>\n",
              "    <tr>\n",
              "      <th>SVC</th>\n",
              "      <td>0.802632</td>\n",
              "      <td>0.938326</td>\n",
              "      <td>0.827586</td>\n",
              "      <td>0.878049</td>\n",
              "    </tr>\n",
              "    <tr>\n",
              "      <th>KNN</th>\n",
              "      <td>0.802632</td>\n",
              "      <td>0.876652</td>\n",
              "      <td>0.823529</td>\n",
              "      <td>0.853659</td>\n",
              "    </tr>\n",
              "    <tr>\n",
              "      <th>GNB</th>\n",
              "      <td>0.802632</td>\n",
              "      <td>0.841410</td>\n",
              "      <td>0.819277</td>\n",
              "      <td>0.829268</td>\n",
              "    </tr>\n",
              "  </tbody>\n",
              "</table>\n",
              "</div>\n",
              "      <button class=\"colab-df-convert\" onclick=\"convertToInteractive('df-dcc5ad0c-d669-40cd-8bf1-fd51362aff2e')\"\n",
              "              title=\"Convert this dataframe to an interactive table.\"\n",
              "              style=\"display:none;\">\n",
              "        \n",
              "  <svg xmlns=\"http://www.w3.org/2000/svg\" height=\"24px\"viewBox=\"0 0 24 24\"\n",
              "       width=\"24px\">\n",
              "    <path d=\"M0 0h24v24H0V0z\" fill=\"none\"/>\n",
              "    <path d=\"M18.56 5.44l.94 2.06.94-2.06 2.06-.94-2.06-.94-.94-2.06-.94 2.06-2.06.94zm-11 1L8.5 8.5l.94-2.06 2.06-.94-2.06-.94L8.5 2.5l-.94 2.06-2.06.94zm10 10l.94 2.06.94-2.06 2.06-.94-2.06-.94-.94-2.06-.94 2.06-2.06.94z\"/><path d=\"M17.41 7.96l-1.37-1.37c-.4-.4-.92-.59-1.43-.59-.52 0-1.04.2-1.43.59L10.3 9.45l-7.72 7.72c-.78.78-.78 2.05 0 2.83L4 21.41c.39.39.9.59 1.41.59.51 0 1.02-.2 1.41-.59l7.78-7.78 2.81-2.81c.8-.78.8-2.07 0-2.86zM5.41 20L4 18.59l7.72-7.72 1.47 1.35L5.41 20z\"/>\n",
              "  </svg>\n",
              "      </button>\n",
              "      \n",
              "  <style>\n",
              "    .colab-df-container {\n",
              "      display:flex;\n",
              "      flex-wrap:wrap;\n",
              "      gap: 12px;\n",
              "    }\n",
              "\n",
              "    .colab-df-convert {\n",
              "      background-color: #E8F0FE;\n",
              "      border: none;\n",
              "      border-radius: 50%;\n",
              "      cursor: pointer;\n",
              "      display: none;\n",
              "      fill: #1967D2;\n",
              "      height: 32px;\n",
              "      padding: 0 0 0 0;\n",
              "      width: 32px;\n",
              "    }\n",
              "\n",
              "    .colab-df-convert:hover {\n",
              "      background-color: #E2EBFA;\n",
              "      box-shadow: 0px 1px 2px rgba(60, 64, 67, 0.3), 0px 1px 3px 1px rgba(60, 64, 67, 0.15);\n",
              "      fill: #174EA6;\n",
              "    }\n",
              "\n",
              "    [theme=dark] .colab-df-convert {\n",
              "      background-color: #3B4455;\n",
              "      fill: #D2E3FC;\n",
              "    }\n",
              "\n",
              "    [theme=dark] .colab-df-convert:hover {\n",
              "      background-color: #434B5C;\n",
              "      box-shadow: 0px 1px 3px 1px rgba(0, 0, 0, 0.15);\n",
              "      filter: drop-shadow(0px 1px 2px rgba(0, 0, 0, 0.3));\n",
              "      fill: #FFFFFF;\n",
              "    }\n",
              "  </style>\n",
              "\n",
              "      <script>\n",
              "        const buttonEl =\n",
              "          document.querySelector('#df-dcc5ad0c-d669-40cd-8bf1-fd51362aff2e button.colab-df-convert');\n",
              "        buttonEl.style.display =\n",
              "          google.colab.kernel.accessAllowed ? 'block' : 'none';\n",
              "\n",
              "        async function convertToInteractive(key) {\n",
              "          const element = document.querySelector('#df-dcc5ad0c-d669-40cd-8bf1-fd51362aff2e');\n",
              "          const dataTable =\n",
              "            await google.colab.kernel.invokeFunction('convertToInteractive',\n",
              "                                                     [key], {});\n",
              "          if (!dataTable) return;\n",
              "\n",
              "          const docLinkHtml = 'Like what you see? Visit the ' +\n",
              "            '<a target=\"_blank\" href=https://colab.research.google.com/notebooks/data_table.ipynb>data table notebook</a>'\n",
              "            + ' to learn more about interactive tables.';\n",
              "          element.innerHTML = '';\n",
              "          dataTable['output_type'] = 'display_data';\n",
              "          await google.colab.output.renderOutput(dataTable, element);\n",
              "          const docLink = document.createElement('div');\n",
              "          docLink.innerHTML = docLinkHtml;\n",
              "          element.appendChild(docLink);\n",
              "        }\n",
              "      </script>\n",
              "    </div>\n",
              "  </div>\n",
              "  "
            ]
          },
          "metadata": {},
          "execution_count": 175
        }
      ]
    },
    {
      "cell_type": "markdown",
      "source": [
        "# I have tried the the same thing with a different dataset which has more data."
      ],
      "metadata": {
        "id": "FwnCnID5flUy"
      }
    },
    {
      "cell_type": "markdown",
      "source": [
        "This dataset contains data of 32561 persons and the purpose is to create a model which classifies whether a person will get a 50K job or not."
      ],
      "metadata": {
        "id": "ubLPXjDdfyVV"
      }
    },
    {
      "cell_type": "markdown",
      "source": [
        "(https://www.kaggle.com/datasets/galshochat/classification-problem-yes-or-no-50k-salary)"
      ],
      "metadata": {
        "id": "fG0hYk1InbfH"
      }
    },
    {
      "cell_type": "code",
      "source": [
        "names=['Age', 'Workclass' ,'fnlwgt' ,'Education','Education-num', 'Marital-Status', 'Occupation', 'Relationship', 'Race', 'Sex' ,'Capital-gain', 'Capital-loss', 'Hours-per-week', 'Native_country' , 'Salary']\n",
        "adult_data= pd.read_csv('/content/adult.data',names=names, sep = ',')\n",
        "adult_data.head()"
      ],
      "metadata": {
        "colab": {
          "base_uri": "https://localhost:8080/",
          "height": 424
        },
        "id": "aZ7zH1Mbk_9v",
        "outputId": "13e2f86a-9faf-491c-d72e-fa835d747ce6"
      },
      "execution_count": null,
      "outputs": [
        {
          "output_type": "execute_result",
          "data": {
            "text/plain": [
              "   Age          Workclass  fnlwgt   Education  Education-num  \\\n",
              "0   39          State-gov   77516   Bachelors             13   \n",
              "1   50   Self-emp-not-inc   83311   Bachelors             13   \n",
              "2   38            Private  215646     HS-grad              9   \n",
              "3   53            Private  234721        11th              7   \n",
              "4   28            Private  338409   Bachelors             13   \n",
              "\n",
              "        Marital-Status          Occupation    Relationship    Race      Sex  \\\n",
              "0        Never-married        Adm-clerical   Not-in-family   White     Male   \n",
              "1   Married-civ-spouse     Exec-managerial         Husband   White     Male   \n",
              "2             Divorced   Handlers-cleaners   Not-in-family   White     Male   \n",
              "3   Married-civ-spouse   Handlers-cleaners         Husband   Black     Male   \n",
              "4   Married-civ-spouse      Prof-specialty            Wife   Black   Female   \n",
              "\n",
              "   Capital-gain  Capital-loss  Hours-per-week  Native_country  Salary  \n",
              "0          2174             0              40   United-States   <=50K  \n",
              "1             0             0              13   United-States   <=50K  \n",
              "2             0             0              40   United-States   <=50K  \n",
              "3             0             0              40   United-States   <=50K  \n",
              "4             0             0              40            Cuba   <=50K  "
            ],
            "text/html": [
              "\n",
              "  <div id=\"df-48d9aa66-16a9-4c67-89ca-df224042518e\">\n",
              "    <div class=\"colab-df-container\">\n",
              "      <div>\n",
              "<style scoped>\n",
              "    .dataframe tbody tr th:only-of-type {\n",
              "        vertical-align: middle;\n",
              "    }\n",
              "\n",
              "    .dataframe tbody tr th {\n",
              "        vertical-align: top;\n",
              "    }\n",
              "\n",
              "    .dataframe thead th {\n",
              "        text-align: right;\n",
              "    }\n",
              "</style>\n",
              "<table border=\"1\" class=\"dataframe\">\n",
              "  <thead>\n",
              "    <tr style=\"text-align: right;\">\n",
              "      <th></th>\n",
              "      <th>Age</th>\n",
              "      <th>Workclass</th>\n",
              "      <th>fnlwgt</th>\n",
              "      <th>Education</th>\n",
              "      <th>Education-num</th>\n",
              "      <th>Marital-Status</th>\n",
              "      <th>Occupation</th>\n",
              "      <th>Relationship</th>\n",
              "      <th>Race</th>\n",
              "      <th>Sex</th>\n",
              "      <th>Capital-gain</th>\n",
              "      <th>Capital-loss</th>\n",
              "      <th>Hours-per-week</th>\n",
              "      <th>Native_country</th>\n",
              "      <th>Salary</th>\n",
              "    </tr>\n",
              "  </thead>\n",
              "  <tbody>\n",
              "    <tr>\n",
              "      <th>0</th>\n",
              "      <td>39</td>\n",
              "      <td>State-gov</td>\n",
              "      <td>77516</td>\n",
              "      <td>Bachelors</td>\n",
              "      <td>13</td>\n",
              "      <td>Never-married</td>\n",
              "      <td>Adm-clerical</td>\n",
              "      <td>Not-in-family</td>\n",
              "      <td>White</td>\n",
              "      <td>Male</td>\n",
              "      <td>2174</td>\n",
              "      <td>0</td>\n",
              "      <td>40</td>\n",
              "      <td>United-States</td>\n",
              "      <td>&lt;=50K</td>\n",
              "    </tr>\n",
              "    <tr>\n",
              "      <th>1</th>\n",
              "      <td>50</td>\n",
              "      <td>Self-emp-not-inc</td>\n",
              "      <td>83311</td>\n",
              "      <td>Bachelors</td>\n",
              "      <td>13</td>\n",
              "      <td>Married-civ-spouse</td>\n",
              "      <td>Exec-managerial</td>\n",
              "      <td>Husband</td>\n",
              "      <td>White</td>\n",
              "      <td>Male</td>\n",
              "      <td>0</td>\n",
              "      <td>0</td>\n",
              "      <td>13</td>\n",
              "      <td>United-States</td>\n",
              "      <td>&lt;=50K</td>\n",
              "    </tr>\n",
              "    <tr>\n",
              "      <th>2</th>\n",
              "      <td>38</td>\n",
              "      <td>Private</td>\n",
              "      <td>215646</td>\n",
              "      <td>HS-grad</td>\n",
              "      <td>9</td>\n",
              "      <td>Divorced</td>\n",
              "      <td>Handlers-cleaners</td>\n",
              "      <td>Not-in-family</td>\n",
              "      <td>White</td>\n",
              "      <td>Male</td>\n",
              "      <td>0</td>\n",
              "      <td>0</td>\n",
              "      <td>40</td>\n",
              "      <td>United-States</td>\n",
              "      <td>&lt;=50K</td>\n",
              "    </tr>\n",
              "    <tr>\n",
              "      <th>3</th>\n",
              "      <td>53</td>\n",
              "      <td>Private</td>\n",
              "      <td>234721</td>\n",
              "      <td>11th</td>\n",
              "      <td>7</td>\n",
              "      <td>Married-civ-spouse</td>\n",
              "      <td>Handlers-cleaners</td>\n",
              "      <td>Husband</td>\n",
              "      <td>Black</td>\n",
              "      <td>Male</td>\n",
              "      <td>0</td>\n",
              "      <td>0</td>\n",
              "      <td>40</td>\n",
              "      <td>United-States</td>\n",
              "      <td>&lt;=50K</td>\n",
              "    </tr>\n",
              "    <tr>\n",
              "      <th>4</th>\n",
              "      <td>28</td>\n",
              "      <td>Private</td>\n",
              "      <td>338409</td>\n",
              "      <td>Bachelors</td>\n",
              "      <td>13</td>\n",
              "      <td>Married-civ-spouse</td>\n",
              "      <td>Prof-specialty</td>\n",
              "      <td>Wife</td>\n",
              "      <td>Black</td>\n",
              "      <td>Female</td>\n",
              "      <td>0</td>\n",
              "      <td>0</td>\n",
              "      <td>40</td>\n",
              "      <td>Cuba</td>\n",
              "      <td>&lt;=50K</td>\n",
              "    </tr>\n",
              "  </tbody>\n",
              "</table>\n",
              "</div>\n",
              "      <button class=\"colab-df-convert\" onclick=\"convertToInteractive('df-48d9aa66-16a9-4c67-89ca-df224042518e')\"\n",
              "              title=\"Convert this dataframe to an interactive table.\"\n",
              "              style=\"display:none;\">\n",
              "        \n",
              "  <svg xmlns=\"http://www.w3.org/2000/svg\" height=\"24px\"viewBox=\"0 0 24 24\"\n",
              "       width=\"24px\">\n",
              "    <path d=\"M0 0h24v24H0V0z\" fill=\"none\"/>\n",
              "    <path d=\"M18.56 5.44l.94 2.06.94-2.06 2.06-.94-2.06-.94-.94-2.06-.94 2.06-2.06.94zm-11 1L8.5 8.5l.94-2.06 2.06-.94-2.06-.94L8.5 2.5l-.94 2.06-2.06.94zm10 10l.94 2.06.94-2.06 2.06-.94-2.06-.94-.94-2.06-.94 2.06-2.06.94z\"/><path d=\"M17.41 7.96l-1.37-1.37c-.4-.4-.92-.59-1.43-.59-.52 0-1.04.2-1.43.59L10.3 9.45l-7.72 7.72c-.78.78-.78 2.05 0 2.83L4 21.41c.39.39.9.59 1.41.59.51 0 1.02-.2 1.41-.59l7.78-7.78 2.81-2.81c.8-.78.8-2.07 0-2.86zM5.41 20L4 18.59l7.72-7.72 1.47 1.35L5.41 20z\"/>\n",
              "  </svg>\n",
              "      </button>\n",
              "      \n",
              "  <style>\n",
              "    .colab-df-container {\n",
              "      display:flex;\n",
              "      flex-wrap:wrap;\n",
              "      gap: 12px;\n",
              "    }\n",
              "\n",
              "    .colab-df-convert {\n",
              "      background-color: #E8F0FE;\n",
              "      border: none;\n",
              "      border-radius: 50%;\n",
              "      cursor: pointer;\n",
              "      display: none;\n",
              "      fill: #1967D2;\n",
              "      height: 32px;\n",
              "      padding: 0 0 0 0;\n",
              "      width: 32px;\n",
              "    }\n",
              "\n",
              "    .colab-df-convert:hover {\n",
              "      background-color: #E2EBFA;\n",
              "      box-shadow: 0px 1px 2px rgba(60, 64, 67, 0.3), 0px 1px 3px 1px rgba(60, 64, 67, 0.15);\n",
              "      fill: #174EA6;\n",
              "    }\n",
              "\n",
              "    [theme=dark] .colab-df-convert {\n",
              "      background-color: #3B4455;\n",
              "      fill: #D2E3FC;\n",
              "    }\n",
              "\n",
              "    [theme=dark] .colab-df-convert:hover {\n",
              "      background-color: #434B5C;\n",
              "      box-shadow: 0px 1px 3px 1px rgba(0, 0, 0, 0.15);\n",
              "      filter: drop-shadow(0px 1px 2px rgba(0, 0, 0, 0.3));\n",
              "      fill: #FFFFFF;\n",
              "    }\n",
              "  </style>\n",
              "\n",
              "      <script>\n",
              "        const buttonEl =\n",
              "          document.querySelector('#df-48d9aa66-16a9-4c67-89ca-df224042518e button.colab-df-convert');\n",
              "        buttonEl.style.display =\n",
              "          google.colab.kernel.accessAllowed ? 'block' : 'none';\n",
              "\n",
              "        async function convertToInteractive(key) {\n",
              "          const element = document.querySelector('#df-48d9aa66-16a9-4c67-89ca-df224042518e');\n",
              "          const dataTable =\n",
              "            await google.colab.kernel.invokeFunction('convertToInteractive',\n",
              "                                                     [key], {});\n",
              "          if (!dataTable) return;\n",
              "\n",
              "          const docLinkHtml = 'Like what you see? Visit the ' +\n",
              "            '<a target=\"_blank\" href=https://colab.research.google.com/notebooks/data_table.ipynb>data table notebook</a>'\n",
              "            + ' to learn more about interactive tables.';\n",
              "          element.innerHTML = '';\n",
              "          dataTable['output_type'] = 'display_data';\n",
              "          await google.colab.output.renderOutput(dataTable, element);\n",
              "          const docLink = document.createElement('div');\n",
              "          docLink.innerHTML = docLinkHtml;\n",
              "          element.appendChild(docLink);\n",
              "        }\n",
              "      </script>\n",
              "    </div>\n",
              "  </div>\n",
              "  "
            ]
          },
          "metadata": {},
          "execution_count": 176
        }
      ]
    },
    {
      "cell_type": "markdown",
      "source": [
        "There is no null or duplicates in the adult_data"
      ],
      "metadata": {
        "id": "OxQ2Pi2slMNM"
      }
    },
    {
      "cell_type": "code",
      "source": [
        "print(adult_data.isna().sum())\n",
        "duplicate = adult_data[adult_data.duplicated(keep='last')]\n",
        "duplicate.shape"
      ],
      "metadata": {
        "colab": {
          "base_uri": "https://localhost:8080/"
        },
        "id": "Wzx2NzOYlAcZ",
        "outputId": "891f5fdb-7c9b-444b-d878-407f6ae5b218"
      },
      "execution_count": null,
      "outputs": [
        {
          "output_type": "stream",
          "name": "stdout",
          "text": [
            "Age               0\n",
            "Workclass         0\n",
            "fnlwgt            0\n",
            "Education         0\n",
            "Education-num     0\n",
            "Marital-Status    0\n",
            "Occupation        0\n",
            "Relationship      0\n",
            "Race              0\n",
            "Sex               0\n",
            "Capital-gain      0\n",
            "Capital-loss      0\n",
            "Hours-per-week    0\n",
            "Native_country    0\n",
            "Salary            0\n",
            "dtype: int64\n"
          ]
        },
        {
          "output_type": "execute_result",
          "data": {
            "text/plain": [
              "(24, 15)"
            ]
          },
          "metadata": {},
          "execution_count": 177
        }
      ]
    },
    {
      "cell_type": "markdown",
      "source": [
        "Listing the numeric and non-numeric columns:"
      ],
      "metadata": {
        "id": "-Iz3UepglXFY"
      }
    },
    {
      "cell_type": "code",
      "source": [
        "cat_df = adult_data.select_dtypes(include=['object'])\n",
        "num_df = adult_data.select_dtypes(exclude=['object'])\n",
        "\n",
        "def printColumnTypes(non_numeric_df, numeric_df):\n",
        "    '''separates non-numeric and numeric columns'''\n",
        "    print(\"Non-Numeric columns:\")\n",
        "    for col in non_numeric_df:\n",
        "        print(f\"{col}\")\n",
        "    print(\"\")\n",
        "    print(\"Numeric columns:\")\n",
        "    for col in numeric_df:\n",
        "        print(f\"{col}\")\n",
        "        \n",
        "printColumnTypes(cat_df, num_df)"
      ],
      "metadata": {
        "colab": {
          "base_uri": "https://localhost:8080/"
        },
        "id": "8cb4ladLfwiW",
        "outputId": "369b5bec-b215-4892-cb43-1a6679aa314f"
      },
      "execution_count": null,
      "outputs": [
        {
          "output_type": "stream",
          "name": "stdout",
          "text": [
            "Non-Numeric columns:\n",
            "Workclass\n",
            "Education\n",
            "Marital-Status\n",
            "Occupation\n",
            "Relationship\n",
            "Race\n",
            "Sex\n",
            "Native_country\n",
            "Salary\n",
            "\n",
            "Numeric columns:\n",
            "Age\n",
            "fnlwgt\n",
            "Education-num\n",
            "Capital-gain\n",
            "Capital-loss\n",
            "Hours-per-week\n"
          ]
        }
      ]
    },
    {
      "cell_type": "markdown",
      "source": [
        "Checing weather the dataset has faulty or 0 values"
      ],
      "metadata": {
        "id": "ZDZxsnDkvRmd"
      }
    },
    {
      "cell_type": "code",
      "source": [
        "adult_data['Workclass'].value_counts()"
      ],
      "metadata": {
        "colab": {
          "base_uri": "https://localhost:8080/"
        },
        "id": "m6k8A_esgYPW",
        "outputId": "ae2e14e6-1f16-4571-9abe-f646ab49701a"
      },
      "execution_count": null,
      "outputs": [
        {
          "output_type": "execute_result",
          "data": {
            "text/plain": [
              " Private             22696\n",
              " Self-emp-not-inc     2541\n",
              " Local-gov            2093\n",
              " ?                    1836\n",
              " State-gov            1298\n",
              " Self-emp-inc         1116\n",
              " Federal-gov           960\n",
              " Without-pay            14\n",
              " Never-worked            7\n",
              "Name: Workclass, dtype: int64"
            ]
          },
          "metadata": {},
          "execution_count": 179
        }
      ]
    },
    {
      "cell_type": "markdown",
      "source": [
        "This loop removes the rows from the data frame that does not contain any actual value just a ' ?'"
      ],
      "metadata": {
        "id": "HzMHKvSYu6UL"
      }
    },
    {
      "cell_type": "code",
      "source": [
        "to_drop=['Native_country','Workclass','Occupation']\n",
        "for x in adult_data.index:\n",
        "  if adult_data.loc[x, \"Workclass\"] == ' ?' or adult_data.loc[x, \"Occupation\"] == ' ?' or adult_data.loc[x, \"Native_country\"] == ' ?' or adult_data.loc[x, \"Workclass\"] == ' Without-pay':\n",
        "    adult_data.drop(x, inplace = True) \n",
        "\n",
        "adult_data.count()"
      ],
      "metadata": {
        "colab": {
          "base_uri": "https://localhost:8080/"
        },
        "id": "Sjhd5O9_p66w",
        "outputId": "f7f54a93-ecbf-4cef-eb60-991e6e6486e2"
      },
      "execution_count": null,
      "outputs": [
        {
          "output_type": "execute_result",
          "data": {
            "text/plain": [
              "Age               30148\n",
              "Workclass         30148\n",
              "fnlwgt            30148\n",
              "Education         30148\n",
              "Education-num     30148\n",
              "Marital-Status    30148\n",
              "Occupation        30148\n",
              "Relationship      30148\n",
              "Race              30148\n",
              "Sex               30148\n",
              "Capital-gain      30148\n",
              "Capital-loss      30148\n",
              "Hours-per-week    30148\n",
              "Native_country    30148\n",
              "Salary            30148\n",
              "dtype: int64"
            ]
          },
          "metadata": {},
          "execution_count": 180
        }
      ]
    },
    {
      "cell_type": "markdown",
      "source": [
        "Convertin non numeric values into numeric like\n",
        "(Salary =>  0 '<=50K')\n",
        "(Salary =>  1 '>50K')\n",
        "\n",
        "(Im not sure if this is the best aproach but i found this)"
      ],
      "metadata": {
        "id": "-5_gvO6c6feQ"
      }
    },
    {
      "cell_type": "code",
      "source": [
        "from sklearn.preprocessing import LabelEncoder\n",
        "le = LabelEncoder()\n",
        "\n",
        "names = ['Workclass','Education','Marital-Status','Occupation','Relationship','Race','Sex','Native_country','Salary']\n",
        "\n",
        "label = le.fit_transform(adult_data['Workclass'])\n",
        "adult_data.drop('Workclass', axis=1, inplace=True)\n",
        "adult_data['Workclass'] = label\n",
        "\n",
        "label = le.fit_transform(adult_data['Education'])\n",
        "adult_data.drop('Education', axis=1, inplace=True)\n",
        "adult_data['Education'] = label\n",
        "\n",
        "label = le.fit_transform(adult_data['Marital-Status'])\n",
        "adult_data.drop('Marital-Status', axis=1, inplace=True)\n",
        "adult_data['Marital-Status'] = label\n",
        "\n",
        "label = le.fit_transform(adult_data['Occupation'])\n",
        "adult_data.drop('Occupation', axis=1, inplace=True)\n",
        "adult_data['Occupation'] = label\n",
        "\n",
        "label = le.fit_transform(adult_data['Relationship'])\n",
        "adult_data.drop('Relationship', axis=1, inplace=True)\n",
        "adult_data['Relationship'] = label\n",
        "\n",
        "label = le.fit_transform(adult_data['Race'])\n",
        "adult_data.drop('Race', axis=1, inplace=True)\n",
        "adult_data['Race'] = label\n",
        "\n",
        "label = le.fit_transform(adult_data['Sex'])\n",
        "adult_data.drop('Sex', axis=1, inplace=True)\n",
        "adult_data['Sex'] = label\n",
        "\n",
        "label = le.fit_transform(adult_data['Native_country'])\n",
        "adult_data.drop('Native_country', axis=1, inplace=True)\n",
        "adult_data['Native_country'] = label\n",
        "\n",
        "label = le.fit_transform(adult_data['Salary'])\n",
        "adult_data.drop('Salary', axis=1, inplace=True)\n",
        "adult_data['Salary'] = label"
      ],
      "metadata": {
        "id": "vNgR_fY1Q7pU"
      },
      "execution_count": null,
      "outputs": []
    },
    {
      "cell_type": "code",
      "source": [
        "adult_data.head(15)"
      ],
      "metadata": {
        "id": "cZV_i5wTifDN",
        "colab": {
          "base_uri": "https://localhost:8080/",
          "height": 598
        },
        "outputId": "2dfe09af-a068-49cb-d73a-86ca836ea6e8"
      },
      "execution_count": null,
      "outputs": [
        {
          "output_type": "execute_result",
          "data": {
            "text/plain": [
              "    Age  fnlwgt  Education-num  Capital-gain  Capital-loss  Hours-per-week  \\\n",
              "0    39   77516             13          2174             0              40   \n",
              "1    50   83311             13             0             0              13   \n",
              "2    38  215646              9             0             0              40   \n",
              "3    53  234721              7             0             0              40   \n",
              "4    28  338409             13             0             0              40   \n",
              "5    37  284582             14             0             0              40   \n",
              "6    49  160187              5             0             0              16   \n",
              "7    52  209642              9             0             0              45   \n",
              "8    31   45781             14         14084             0              50   \n",
              "9    42  159449             13          5178             0              40   \n",
              "10   37  280464             10             0             0              80   \n",
              "11   30  141297             13             0             0              40   \n",
              "12   23  122272             13             0             0              30   \n",
              "13   32  205019             12             0             0              50   \n",
              "15   34  245487              4             0             0              45   \n",
              "\n",
              "    Workclass  Education  Marital-Status  Occupation  Relationship  Race  Sex  \\\n",
              "0           5          9               4           0             1     4    1   \n",
              "1           4          9               2           3             0     4    1   \n",
              "2           2         11               0           5             1     4    1   \n",
              "3           2          1               2           5             0     2    1   \n",
              "4           2          9               2           9             5     2    0   \n",
              "5           2         12               2           3             5     4    0   \n",
              "6           2          6               3           7             1     2    0   \n",
              "7           4         11               2           3             0     4    1   \n",
              "8           2         12               4           9             1     4    0   \n",
              "9           2          9               2           3             0     4    1   \n",
              "10          2         15               2           3             0     2    1   \n",
              "11          5          9               2           9             0     1    1   \n",
              "12          2          9               4           0             3     4    0   \n",
              "13          2          7               4          11             1     2    1   \n",
              "15          2          5               2          13             0     0    1   \n",
              "\n",
              "    Native_country  Salary  \n",
              "0               38       0  \n",
              "1               38       0  \n",
              "2               38       0  \n",
              "3               38       0  \n",
              "4                4       0  \n",
              "5               38       0  \n",
              "6               22       0  \n",
              "7               38       1  \n",
              "8               38       1  \n",
              "9               38       1  \n",
              "10              38       1  \n",
              "11              18       1  \n",
              "12              38       0  \n",
              "13              38       0  \n",
              "15              25       0  "
            ],
            "text/html": [
              "\n",
              "  <div id=\"df-d29f9fe8-522d-400c-a199-6117ab605b0b\">\n",
              "    <div class=\"colab-df-container\">\n",
              "      <div>\n",
              "<style scoped>\n",
              "    .dataframe tbody tr th:only-of-type {\n",
              "        vertical-align: middle;\n",
              "    }\n",
              "\n",
              "    .dataframe tbody tr th {\n",
              "        vertical-align: top;\n",
              "    }\n",
              "\n",
              "    .dataframe thead th {\n",
              "        text-align: right;\n",
              "    }\n",
              "</style>\n",
              "<table border=\"1\" class=\"dataframe\">\n",
              "  <thead>\n",
              "    <tr style=\"text-align: right;\">\n",
              "      <th></th>\n",
              "      <th>Age</th>\n",
              "      <th>fnlwgt</th>\n",
              "      <th>Education-num</th>\n",
              "      <th>Capital-gain</th>\n",
              "      <th>Capital-loss</th>\n",
              "      <th>Hours-per-week</th>\n",
              "      <th>Workclass</th>\n",
              "      <th>Education</th>\n",
              "      <th>Marital-Status</th>\n",
              "      <th>Occupation</th>\n",
              "      <th>Relationship</th>\n",
              "      <th>Race</th>\n",
              "      <th>Sex</th>\n",
              "      <th>Native_country</th>\n",
              "      <th>Salary</th>\n",
              "    </tr>\n",
              "  </thead>\n",
              "  <tbody>\n",
              "    <tr>\n",
              "      <th>0</th>\n",
              "      <td>39</td>\n",
              "      <td>77516</td>\n",
              "      <td>13</td>\n",
              "      <td>2174</td>\n",
              "      <td>0</td>\n",
              "      <td>40</td>\n",
              "      <td>5</td>\n",
              "      <td>9</td>\n",
              "      <td>4</td>\n",
              "      <td>0</td>\n",
              "      <td>1</td>\n",
              "      <td>4</td>\n",
              "      <td>1</td>\n",
              "      <td>38</td>\n",
              "      <td>0</td>\n",
              "    </tr>\n",
              "    <tr>\n",
              "      <th>1</th>\n",
              "      <td>50</td>\n",
              "      <td>83311</td>\n",
              "      <td>13</td>\n",
              "      <td>0</td>\n",
              "      <td>0</td>\n",
              "      <td>13</td>\n",
              "      <td>4</td>\n",
              "      <td>9</td>\n",
              "      <td>2</td>\n",
              "      <td>3</td>\n",
              "      <td>0</td>\n",
              "      <td>4</td>\n",
              "      <td>1</td>\n",
              "      <td>38</td>\n",
              "      <td>0</td>\n",
              "    </tr>\n",
              "    <tr>\n",
              "      <th>2</th>\n",
              "      <td>38</td>\n",
              "      <td>215646</td>\n",
              "      <td>9</td>\n",
              "      <td>0</td>\n",
              "      <td>0</td>\n",
              "      <td>40</td>\n",
              "      <td>2</td>\n",
              "      <td>11</td>\n",
              "      <td>0</td>\n",
              "      <td>5</td>\n",
              "      <td>1</td>\n",
              "      <td>4</td>\n",
              "      <td>1</td>\n",
              "      <td>38</td>\n",
              "      <td>0</td>\n",
              "    </tr>\n",
              "    <tr>\n",
              "      <th>3</th>\n",
              "      <td>53</td>\n",
              "      <td>234721</td>\n",
              "      <td>7</td>\n",
              "      <td>0</td>\n",
              "      <td>0</td>\n",
              "      <td>40</td>\n",
              "      <td>2</td>\n",
              "      <td>1</td>\n",
              "      <td>2</td>\n",
              "      <td>5</td>\n",
              "      <td>0</td>\n",
              "      <td>2</td>\n",
              "      <td>1</td>\n",
              "      <td>38</td>\n",
              "      <td>0</td>\n",
              "    </tr>\n",
              "    <tr>\n",
              "      <th>4</th>\n",
              "      <td>28</td>\n",
              "      <td>338409</td>\n",
              "      <td>13</td>\n",
              "      <td>0</td>\n",
              "      <td>0</td>\n",
              "      <td>40</td>\n",
              "      <td>2</td>\n",
              "      <td>9</td>\n",
              "      <td>2</td>\n",
              "      <td>9</td>\n",
              "      <td>5</td>\n",
              "      <td>2</td>\n",
              "      <td>0</td>\n",
              "      <td>4</td>\n",
              "      <td>0</td>\n",
              "    </tr>\n",
              "    <tr>\n",
              "      <th>5</th>\n",
              "      <td>37</td>\n",
              "      <td>284582</td>\n",
              "      <td>14</td>\n",
              "      <td>0</td>\n",
              "      <td>0</td>\n",
              "      <td>40</td>\n",
              "      <td>2</td>\n",
              "      <td>12</td>\n",
              "      <td>2</td>\n",
              "      <td>3</td>\n",
              "      <td>5</td>\n",
              "      <td>4</td>\n",
              "      <td>0</td>\n",
              "      <td>38</td>\n",
              "      <td>0</td>\n",
              "    </tr>\n",
              "    <tr>\n",
              "      <th>6</th>\n",
              "      <td>49</td>\n",
              "      <td>160187</td>\n",
              "      <td>5</td>\n",
              "      <td>0</td>\n",
              "      <td>0</td>\n",
              "      <td>16</td>\n",
              "      <td>2</td>\n",
              "      <td>6</td>\n",
              "      <td>3</td>\n",
              "      <td>7</td>\n",
              "      <td>1</td>\n",
              "      <td>2</td>\n",
              "      <td>0</td>\n",
              "      <td>22</td>\n",
              "      <td>0</td>\n",
              "    </tr>\n",
              "    <tr>\n",
              "      <th>7</th>\n",
              "      <td>52</td>\n",
              "      <td>209642</td>\n",
              "      <td>9</td>\n",
              "      <td>0</td>\n",
              "      <td>0</td>\n",
              "      <td>45</td>\n",
              "      <td>4</td>\n",
              "      <td>11</td>\n",
              "      <td>2</td>\n",
              "      <td>3</td>\n",
              "      <td>0</td>\n",
              "      <td>4</td>\n",
              "      <td>1</td>\n",
              "      <td>38</td>\n",
              "      <td>1</td>\n",
              "    </tr>\n",
              "    <tr>\n",
              "      <th>8</th>\n",
              "      <td>31</td>\n",
              "      <td>45781</td>\n",
              "      <td>14</td>\n",
              "      <td>14084</td>\n",
              "      <td>0</td>\n",
              "      <td>50</td>\n",
              "      <td>2</td>\n",
              "      <td>12</td>\n",
              "      <td>4</td>\n",
              "      <td>9</td>\n",
              "      <td>1</td>\n",
              "      <td>4</td>\n",
              "      <td>0</td>\n",
              "      <td>38</td>\n",
              "      <td>1</td>\n",
              "    </tr>\n",
              "    <tr>\n",
              "      <th>9</th>\n",
              "      <td>42</td>\n",
              "      <td>159449</td>\n",
              "      <td>13</td>\n",
              "      <td>5178</td>\n",
              "      <td>0</td>\n",
              "      <td>40</td>\n",
              "      <td>2</td>\n",
              "      <td>9</td>\n",
              "      <td>2</td>\n",
              "      <td>3</td>\n",
              "      <td>0</td>\n",
              "      <td>4</td>\n",
              "      <td>1</td>\n",
              "      <td>38</td>\n",
              "      <td>1</td>\n",
              "    </tr>\n",
              "    <tr>\n",
              "      <th>10</th>\n",
              "      <td>37</td>\n",
              "      <td>280464</td>\n",
              "      <td>10</td>\n",
              "      <td>0</td>\n",
              "      <td>0</td>\n",
              "      <td>80</td>\n",
              "      <td>2</td>\n",
              "      <td>15</td>\n",
              "      <td>2</td>\n",
              "      <td>3</td>\n",
              "      <td>0</td>\n",
              "      <td>2</td>\n",
              "      <td>1</td>\n",
              "      <td>38</td>\n",
              "      <td>1</td>\n",
              "    </tr>\n",
              "    <tr>\n",
              "      <th>11</th>\n",
              "      <td>30</td>\n",
              "      <td>141297</td>\n",
              "      <td>13</td>\n",
              "      <td>0</td>\n",
              "      <td>0</td>\n",
              "      <td>40</td>\n",
              "      <td>5</td>\n",
              "      <td>9</td>\n",
              "      <td>2</td>\n",
              "      <td>9</td>\n",
              "      <td>0</td>\n",
              "      <td>1</td>\n",
              "      <td>1</td>\n",
              "      <td>18</td>\n",
              "      <td>1</td>\n",
              "    </tr>\n",
              "    <tr>\n",
              "      <th>12</th>\n",
              "      <td>23</td>\n",
              "      <td>122272</td>\n",
              "      <td>13</td>\n",
              "      <td>0</td>\n",
              "      <td>0</td>\n",
              "      <td>30</td>\n",
              "      <td>2</td>\n",
              "      <td>9</td>\n",
              "      <td>4</td>\n",
              "      <td>0</td>\n",
              "      <td>3</td>\n",
              "      <td>4</td>\n",
              "      <td>0</td>\n",
              "      <td>38</td>\n",
              "      <td>0</td>\n",
              "    </tr>\n",
              "    <tr>\n",
              "      <th>13</th>\n",
              "      <td>32</td>\n",
              "      <td>205019</td>\n",
              "      <td>12</td>\n",
              "      <td>0</td>\n",
              "      <td>0</td>\n",
              "      <td>50</td>\n",
              "      <td>2</td>\n",
              "      <td>7</td>\n",
              "      <td>4</td>\n",
              "      <td>11</td>\n",
              "      <td>1</td>\n",
              "      <td>2</td>\n",
              "      <td>1</td>\n",
              "      <td>38</td>\n",
              "      <td>0</td>\n",
              "    </tr>\n",
              "    <tr>\n",
              "      <th>15</th>\n",
              "      <td>34</td>\n",
              "      <td>245487</td>\n",
              "      <td>4</td>\n",
              "      <td>0</td>\n",
              "      <td>0</td>\n",
              "      <td>45</td>\n",
              "      <td>2</td>\n",
              "      <td>5</td>\n",
              "      <td>2</td>\n",
              "      <td>13</td>\n",
              "      <td>0</td>\n",
              "      <td>0</td>\n",
              "      <td>1</td>\n",
              "      <td>25</td>\n",
              "      <td>0</td>\n",
              "    </tr>\n",
              "  </tbody>\n",
              "</table>\n",
              "</div>\n",
              "      <button class=\"colab-df-convert\" onclick=\"convertToInteractive('df-d29f9fe8-522d-400c-a199-6117ab605b0b')\"\n",
              "              title=\"Convert this dataframe to an interactive table.\"\n",
              "              style=\"display:none;\">\n",
              "        \n",
              "  <svg xmlns=\"http://www.w3.org/2000/svg\" height=\"24px\"viewBox=\"0 0 24 24\"\n",
              "       width=\"24px\">\n",
              "    <path d=\"M0 0h24v24H0V0z\" fill=\"none\"/>\n",
              "    <path d=\"M18.56 5.44l.94 2.06.94-2.06 2.06-.94-2.06-.94-.94-2.06-.94 2.06-2.06.94zm-11 1L8.5 8.5l.94-2.06 2.06-.94-2.06-.94L8.5 2.5l-.94 2.06-2.06.94zm10 10l.94 2.06.94-2.06 2.06-.94-2.06-.94-.94-2.06-.94 2.06-2.06.94z\"/><path d=\"M17.41 7.96l-1.37-1.37c-.4-.4-.92-.59-1.43-.59-.52 0-1.04.2-1.43.59L10.3 9.45l-7.72 7.72c-.78.78-.78 2.05 0 2.83L4 21.41c.39.39.9.59 1.41.59.51 0 1.02-.2 1.41-.59l7.78-7.78 2.81-2.81c.8-.78.8-2.07 0-2.86zM5.41 20L4 18.59l7.72-7.72 1.47 1.35L5.41 20z\"/>\n",
              "  </svg>\n",
              "      </button>\n",
              "      \n",
              "  <style>\n",
              "    .colab-df-container {\n",
              "      display:flex;\n",
              "      flex-wrap:wrap;\n",
              "      gap: 12px;\n",
              "    }\n",
              "\n",
              "    .colab-df-convert {\n",
              "      background-color: #E8F0FE;\n",
              "      border: none;\n",
              "      border-radius: 50%;\n",
              "      cursor: pointer;\n",
              "      display: none;\n",
              "      fill: #1967D2;\n",
              "      height: 32px;\n",
              "      padding: 0 0 0 0;\n",
              "      width: 32px;\n",
              "    }\n",
              "\n",
              "    .colab-df-convert:hover {\n",
              "      background-color: #E2EBFA;\n",
              "      box-shadow: 0px 1px 2px rgba(60, 64, 67, 0.3), 0px 1px 3px 1px rgba(60, 64, 67, 0.15);\n",
              "      fill: #174EA6;\n",
              "    }\n",
              "\n",
              "    [theme=dark] .colab-df-convert {\n",
              "      background-color: #3B4455;\n",
              "      fill: #D2E3FC;\n",
              "    }\n",
              "\n",
              "    [theme=dark] .colab-df-convert:hover {\n",
              "      background-color: #434B5C;\n",
              "      box-shadow: 0px 1px 3px 1px rgba(0, 0, 0, 0.15);\n",
              "      filter: drop-shadow(0px 1px 2px rgba(0, 0, 0, 0.3));\n",
              "      fill: #FFFFFF;\n",
              "    }\n",
              "  </style>\n",
              "\n",
              "      <script>\n",
              "        const buttonEl =\n",
              "          document.querySelector('#df-d29f9fe8-522d-400c-a199-6117ab605b0b button.colab-df-convert');\n",
              "        buttonEl.style.display =\n",
              "          google.colab.kernel.accessAllowed ? 'block' : 'none';\n",
              "\n",
              "        async function convertToInteractive(key) {\n",
              "          const element = document.querySelector('#df-d29f9fe8-522d-400c-a199-6117ab605b0b');\n",
              "          const dataTable =\n",
              "            await google.colab.kernel.invokeFunction('convertToInteractive',\n",
              "                                                     [key], {});\n",
              "          if (!dataTable) return;\n",
              "\n",
              "          const docLinkHtml = 'Like what you see? Visit the ' +\n",
              "            '<a target=\"_blank\" href=https://colab.research.google.com/notebooks/data_table.ipynb>data table notebook</a>'\n",
              "            + ' to learn more about interactive tables.';\n",
              "          element.innerHTML = '';\n",
              "          dataTable['output_type'] = 'display_data';\n",
              "          await google.colab.output.renderOutput(dataTable, element);\n",
              "          const docLink = document.createElement('div');\n",
              "          docLink.innerHTML = docLinkHtml;\n",
              "          element.appendChild(docLink);\n",
              "        }\n",
              "      </script>\n",
              "    </div>\n",
              "  </div>\n",
              "  "
            ]
          },
          "metadata": {},
          "execution_count": 182
        }
      ]
    },
    {
      "cell_type": "markdown",
      "source": [
        "Splitting the data into input and output, train and test"
      ],
      "metadata": {
        "id": "R5JQZK3Sfh5G"
      }
    },
    {
      "cell_type": "code",
      "source": [
        "X=adult_data.drop('Salary',axis=1)\n",
        "y=adult_data['Salary']\n",
        "\n",
        "print(X.shape,y.shape)\n",
        "X_train, X_test,y_train, y_test = train_test_split(X,y,test_size=0.4)"
      ],
      "metadata": {
        "id": "OFJCqCbh0tr4",
        "colab": {
          "base_uri": "https://localhost:8080/"
        },
        "outputId": "e8527144-9a38-43d5-e1b4-42d703f537cd"
      },
      "execution_count": null,
      "outputs": [
        {
          "output_type": "stream",
          "name": "stdout",
          "text": [
            "(30148, 14) (30148,)\n"
          ]
        }
      ]
    },
    {
      "cell_type": "code",
      "source": [
        "y_train.value_counts()"
      ],
      "metadata": {
        "colab": {
          "base_uri": "https://localhost:8080/"
        },
        "outputId": "f742585e-ecb0-4a96-c365-409c6cad6088",
        "id": "cId0txxbfh5G"
      },
      "execution_count": null,
      "outputs": [
        {
          "output_type": "execute_result",
          "data": {
            "text/plain": [
              "0    13573\n",
              "1     4515\n",
              "Name: Salary, dtype: int64"
            ]
          },
          "metadata": {},
          "execution_count": 184
        }
      ]
    },
    {
      "cell_type": "markdown",
      "source": [
        "we have to do some scaling in order for the alogrithm to work efficiently:"
      ],
      "metadata": {
        "id": "MzMH76tsfh5G"
      }
    },
    {
      "cell_type": "code",
      "source": [
        "from sklearn.preprocessing import StandardScaler  \n",
        "scaler = StandardScaler()\n",
        "scaler.fit(X_train)\n",
        "X_train = scaler.transform(X_train) \n",
        "X_test = scaler.transform(X_test)"
      ],
      "metadata": {
        "id": "DAt8mQ0xfh5G"
      },
      "execution_count": null,
      "outputs": []
    },
    {
      "cell_type": "markdown",
      "source": [
        "Next i will instasiate the MLP Classifier, and fit the model to the data. We have some scores to measure the fit."
      ],
      "metadata": {
        "id": "xFIh9ksHfh5G"
      }
    },
    {
      "cell_type": "code",
      "source": [
        "mlp = MLPClassifier(hidden_layer_sizes=(50,), max_iter=10, alpha=1e-4,\n",
        "                    solver='adam', verbose=10, activation='logistic', random_state=1,\n",
        "                    learning_rate_init=0.01)\n",
        "\n",
        "\n",
        "mlp.fit(X_train, y_train)\n",
        "mlp_score=mlp.score(X_train, y_train)\n",
        "print(\"Training set score: %f\" % mlp_score)\n",
        "print(\"Test set score: %f\" % mlp.score(X_test, y_test))"
      ],
      "metadata": {
        "colab": {
          "base_uri": "https://localhost:8080/"
        },
        "outputId": "07271dc2-5542-46b6-a4b5-2c61aade1ee5",
        "id": "7e3NVCJBfh5H"
      },
      "execution_count": null,
      "outputs": [
        {
          "output_type": "stream",
          "name": "stdout",
          "text": [
            "Iteration 1, loss = 0.43919508\n",
            "Iteration 2, loss = 0.39281770\n",
            "Iteration 3, loss = 0.37854102\n",
            "Iteration 4, loss = 0.35846603\n",
            "Iteration 5, loss = 0.34228414\n",
            "Iteration 6, loss = 0.33491250\n",
            "Iteration 7, loss = 0.33189848\n",
            "Iteration 8, loss = 0.32916024\n",
            "Iteration 9, loss = 0.32758904\n",
            "Iteration 10, loss = 0.32549859\n",
            "Training set score: 0.847800\n",
            "Test set score: 0.842952\n"
          ]
        },
        {
          "output_type": "stream",
          "name": "stderr",
          "text": [
            "/usr/local/lib/python3.7/dist-packages/sklearn/neural_network/_multilayer_perceptron.py:696: ConvergenceWarning: Stochastic Optimizer: Maximum iterations (10) reached and the optimization hasn't converged yet.\n",
            "  ConvergenceWarning,\n"
          ]
        }
      ]
    },
    {
      "cell_type": "markdown",
      "source": [
        "Next step is to do the prediction. We can see some scores here as well and we can evaluate that the prediction is very accurate."
      ],
      "metadata": {
        "id": "F1fr_Sb9fh5H"
      }
    },
    {
      "cell_type": "code",
      "source": [
        "MLP_predict = mlp.predict(X_test)\n",
        "\n",
        "accuracy_MLP = accuracy_score(y_test, MLP_predict)\n",
        "print('Accuracy: ',accuracy_MLP)\n",
        "\n",
        "print(classification_report(y_test,MLP_predict))"
      ],
      "metadata": {
        "colab": {
          "base_uri": "https://localhost:8080/"
        },
        "outputId": "e4873c34-82a4-4707-8a5b-7ce1d192a255",
        "id": "haAyyOQdfh5H"
      },
      "execution_count": null,
      "outputs": [
        {
          "output_type": "stream",
          "name": "stdout",
          "text": [
            "Accuracy:  0.8429519071310116\n",
            "              precision    recall  f1-score   support\n",
            "\n",
            "           0       0.87      0.93      0.90      9067\n",
            "           1       0.73      0.58      0.65      2993\n",
            "\n",
            "    accuracy                           0.84     12060\n",
            "   macro avg       0.80      0.75      0.77     12060\n",
            "weighted avg       0.84      0.84      0.84     12060\n",
            "\n"
          ]
        }
      ]
    },
    {
      "cell_type": "code",
      "source": [
        "recall_MLP = recall_score(y_test, MLP_predict)\n",
        "# f1: 2 tp / (2 tp + fp + fn)\n",
        "f1_MLP = f1_score(y_test, MLP_predict)\n",
        "matrix_MLP = confusion_matrix(y_test, MLP_predict)\n",
        "print(matrix_MLP)"
      ],
      "metadata": {
        "colab": {
          "base_uri": "https://localhost:8080/"
        },
        "outputId": "6034934d-ebce-4fce-a5b9-bab1c6d26e26",
        "id": "ayHwFs0gfh5H"
      },
      "execution_count": null,
      "outputs": [
        {
          "output_type": "stream",
          "name": "stdout",
          "text": [
            "[[8434  633]\n",
            " [1261 1732]]\n"
          ]
        }
      ]
    },
    {
      "cell_type": "markdown",
      "source": [
        "Prediction using Logistic Regression algortihm"
      ],
      "metadata": {
        "id": "UeQRnZhWfh5H"
      }
    },
    {
      "cell_type": "code",
      "source": [
        "from sklearn.linear_model import LogisticRegression\n",
        "classifier = LogisticRegression(solver='lbfgs',random_state=0)\n",
        "classifier.fit(X_train, y_train)\n",
        "lr_score = classifier.score(X_train, y_train)\n",
        "print(\"Training set score: %f\" % lr_score)\n",
        "print(\"Test set score: %f\" % classifier.score(X_test, y_test))"
      ],
      "metadata": {
        "colab": {
          "base_uri": "https://localhost:8080/"
        },
        "outputId": "dc09aa63-9b68-4bf7-c161-f57972f13eb1",
        "id": "qsu0Ja78fh5H"
      },
      "execution_count": null,
      "outputs": [
        {
          "output_type": "stream",
          "name": "stdout",
          "text": [
            "Training set score: 0.821760\n",
            "Test set score: 0.818988\n"
          ]
        }
      ]
    },
    {
      "cell_type": "code",
      "source": [
        "LR_predict = classifier.predict(X_test)\n",
        "\n",
        "accuracy_LR = accuracy_score(y_test, LR_predict)\n",
        "\n",
        "print('Accuracy: ',accuracy_LR)\n",
        "print(classification_report(y_test,LR_predict))"
      ],
      "metadata": {
        "colab": {
          "base_uri": "https://localhost:8080/"
        },
        "outputId": "8dda0755-0a7f-4a5c-da96-18773d690c96",
        "id": "4dx82pGrfh5I"
      },
      "execution_count": null,
      "outputs": [
        {
          "output_type": "stream",
          "name": "stdout",
          "text": [
            "Accuracy:  0.8189883913764511\n",
            "              precision    recall  f1-score   support\n",
            "\n",
            "           0       0.84      0.94      0.89      9067\n",
            "           1       0.71      0.46      0.56      2993\n",
            "\n",
            "    accuracy                           0.82     12060\n",
            "   macro avg       0.77      0.70      0.72     12060\n",
            "weighted avg       0.81      0.82      0.80     12060\n",
            "\n"
          ]
        }
      ]
    },
    {
      "cell_type": "code",
      "source": [
        "recall_LR = recall_score(y_test, LR_predict)\n",
        "# f1: 2 tp / (2 tp + fp + fn)\n",
        "f1_LR = f1_score(y_test, LR_predict)\n",
        "matrix_LR = confusion_matrix(y_test, LR_predict)\n",
        "print(matrix_LR)"
      ],
      "metadata": {
        "colab": {
          "base_uri": "https://localhost:8080/"
        },
        "outputId": "092f226b-da2d-410c-88a8-790adbbc55a1",
        "id": "Yg62wlcffh5I"
      },
      "execution_count": null,
      "outputs": [
        {
          "output_type": "stream",
          "name": "stdout",
          "text": [
            "[[8507  560]\n",
            " [1623 1370]]\n"
          ]
        }
      ]
    },
    {
      "cell_type": "markdown",
      "source": [
        "Prediction using Decision Tree Classifier algorithm:"
      ],
      "metadata": {
        "id": "s3m-hLYsfh5I"
      }
    },
    {
      "cell_type": "code",
      "source": [
        "from sklearn.tree import DecisionTreeClassifier\n",
        "dtc = DecisionTreeClassifier()\n",
        "\n",
        "dtc.fit(X_train, y_train)\n",
        "dtc_score=dtc.score(X_train, y_train)\n",
        "print(\"Training set score: %f\" % dtc_score)\n",
        "print(\"Test set score: %f\" % dtc.score(X_test, y_test))"
      ],
      "metadata": {
        "colab": {
          "base_uri": "https://localhost:8080/"
        },
        "outputId": "04ef803b-541c-4868-d9b0-4a0d0e897d0b",
        "id": "_YOCcv7zfh5I"
      },
      "execution_count": null,
      "outputs": [
        {
          "output_type": "stream",
          "name": "stdout",
          "text": [
            "Training set score: 1.000000\n",
            "Test set score: 0.804395\n"
          ]
        }
      ]
    },
    {
      "cell_type": "code",
      "source": [
        "DTC_predict = dtc.predict(X_test)\n",
        "\n",
        "accuracy_DTC = accuracy_score(y_test, DTC_predict)\n",
        "print('Accuracy: ',accuracy_DTC)\n",
        "\n",
        "print(classification_report(y_test,DTC_predict))"
      ],
      "metadata": {
        "colab": {
          "base_uri": "https://localhost:8080/"
        },
        "outputId": "eef738c5-50ed-4000-a7cb-fc047a40fb54",
        "id": "PQ9AqDdQfh5I"
      },
      "execution_count": null,
      "outputs": [
        {
          "output_type": "stream",
          "name": "stdout",
          "text": [
            "Accuracy:  0.8043946932006634\n",
            "              precision    recall  f1-score   support\n",
            "\n",
            "           0       0.87      0.86      0.87      9067\n",
            "           1       0.60      0.63      0.61      2993\n",
            "\n",
            "    accuracy                           0.80     12060\n",
            "   macro avg       0.74      0.74      0.74     12060\n",
            "weighted avg       0.81      0.80      0.81     12060\n",
            "\n"
          ]
        }
      ]
    },
    {
      "cell_type": "code",
      "source": [
        "recall_DTC = recall_score(y_test, DTC_predict)\n",
        "# f1: 2 tp / (2 tp + fp + fn)\n",
        "f1_DTC = f1_score(y_test, DTC_predict)\n",
        "matrix_DTC = confusion_matrix(y_test, DTC_predict)\n",
        "print(matrix_DTC)"
      ],
      "metadata": {
        "colab": {
          "base_uri": "https://localhost:8080/"
        },
        "outputId": "fa92bac6-6fc5-4285-a291-01913cf118f7",
        "id": "VzFgvoRAfh5I"
      },
      "execution_count": null,
      "outputs": [
        {
          "output_type": "stream",
          "name": "stdout",
          "text": [
            "[[7829 1238]\n",
            " [1121 1872]]\n"
          ]
        }
      ]
    },
    {
      "cell_type": "markdown",
      "source": [
        "Prediction using Random Forest Classifier algorithm:"
      ],
      "metadata": {
        "id": "EAP8AZ5ffh5J"
      }
    },
    {
      "cell_type": "code",
      "source": [
        "from sklearn.ensemble import RandomForestClassifier\n",
        "rfc = RandomForestClassifier()\n",
        "\n",
        "rfc.fit(X_train, y_train)\n",
        "rfc_score=rfc.score(X_train, y_train)\n",
        "print(\"Training set score: %f\" % rfc_score)\n",
        "print(\"Test set score: %f\" % rfc.score(X_test, y_test))"
      ],
      "metadata": {
        "colab": {
          "base_uri": "https://localhost:8080/"
        },
        "outputId": "00e0b2be-2183-4662-8605-bd532373ac56",
        "id": "DpAmnNjSfh5J"
      },
      "execution_count": null,
      "outputs": [
        {
          "output_type": "stream",
          "name": "stdout",
          "text": [
            "Training set score: 1.000000\n",
            "Test set score: 0.850995\n"
          ]
        }
      ]
    },
    {
      "cell_type": "code",
      "source": [
        "RFC_predict = rfc.predict(X_test)\n",
        "\n",
        "accuracy_RFC = accuracy_score(y_test, RFC_predict)\n",
        "print('Accuracy: ',accuracy_RFC)\n",
        "\n",
        "print(classification_report(y_test,RFC_predict))"
      ],
      "metadata": {
        "colab": {
          "base_uri": "https://localhost:8080/"
        },
        "outputId": "ba9439f8-4ac7-4ebb-e652-658611644edf",
        "id": "cJlObPX6fh5J"
      },
      "execution_count": null,
      "outputs": [
        {
          "output_type": "stream",
          "name": "stdout",
          "text": [
            "Accuracy:  0.8509950248756218\n",
            "              precision    recall  f1-score   support\n",
            "\n",
            "           0       0.88      0.92      0.90      9067\n",
            "           1       0.73      0.63      0.68      2993\n",
            "\n",
            "    accuracy                           0.85     12060\n",
            "   macro avg       0.81      0.78      0.79     12060\n",
            "weighted avg       0.85      0.85      0.85     12060\n",
            "\n"
          ]
        }
      ]
    },
    {
      "cell_type": "code",
      "source": [
        "recall_RFC = recall_score(y_test, RFC_predict)\n",
        "# f1: 2 tp / (2 tp + fp + fn)\n",
        "f1_RFC = f1_score(y_test, RFC_predict)\n",
        "matrix_RFC = confusion_matrix(y_test, RFC_predict)\n",
        "print(matrix_RFC)"
      ],
      "metadata": {
        "colab": {
          "base_uri": "https://localhost:8080/"
        },
        "outputId": "83da2866-1d76-44ea-c194-0992af05e2a2",
        "id": "OI1EWPVBfh5J"
      },
      "execution_count": null,
      "outputs": [
        {
          "output_type": "stream",
          "name": "stdout",
          "text": [
            "[[8376  691]\n",
            " [1106 1887]]\n"
          ]
        }
      ]
    },
    {
      "cell_type": "markdown",
      "source": [
        "Prediction Using the Support Vector Machine algorithm:"
      ],
      "metadata": {
        "id": "LgzXZ2Jmfh5J"
      }
    },
    {
      "cell_type": "code",
      "source": [
        "from sklearn.svm import SVC\n",
        "svc = SVC()\n",
        "svc.fit(X_train, y_train)\n",
        "svc_score=svc.score(X_train, y_train)\n",
        "print(\"Training set score: %f\" %svc_score)\n",
        "print(\"Test set score: %f\" % svc.score(X_test, y_test))"
      ],
      "metadata": {
        "colab": {
          "base_uri": "https://localhost:8080/"
        },
        "outputId": "a5f67449-ccdf-487e-ad13-05b8fece60e3",
        "id": "2Xb31bOtfh5J"
      },
      "execution_count": null,
      "outputs": [
        {
          "output_type": "stream",
          "name": "stdout",
          "text": [
            "Training set score: 0.853826\n",
            "Test set score: 0.844113\n"
          ]
        }
      ]
    },
    {
      "cell_type": "code",
      "source": [
        "SVC_predict = svc.predict(X_test)\n",
        "\n",
        "accuracy_SVC = accuracy_score(y_test, SVC_predict)\n",
        "print('Accuracy: ',accuracy_SVC)\n",
        "\n",
        "print(classification_report(y_test,SVC_predict))"
      ],
      "metadata": {
        "colab": {
          "base_uri": "https://localhost:8080/"
        },
        "outputId": "29c0c614-f9ff-45ad-8c71-20f915dec8c0",
        "id": "Frm6tDvufh5K"
      },
      "execution_count": null,
      "outputs": [
        {
          "output_type": "stream",
          "name": "stdout",
          "text": [
            "Accuracy:  0.8441127694859039\n",
            "              precision    recall  f1-score   support\n",
            "\n",
            "           0       0.86      0.94      0.90      9067\n",
            "           1       0.75      0.55      0.64      2993\n",
            "\n",
            "    accuracy                           0.84     12060\n",
            "   macro avg       0.81      0.75      0.77     12060\n",
            "weighted avg       0.84      0.84      0.84     12060\n",
            "\n"
          ]
        }
      ]
    },
    {
      "cell_type": "code",
      "source": [
        "recall_SVC = recall_score(y_test, SVC_predict)\n",
        "# f1: 2 tp / (2 tp + fp + fn)\n",
        "f1_SVC = f1_score(y_test, SVC_predict)\n",
        "matrix_SVC = confusion_matrix(y_test, SVC_predict)\n",
        "print(matrix_SVC)"
      ],
      "metadata": {
        "colab": {
          "base_uri": "https://localhost:8080/"
        },
        "outputId": "e32329e3-c317-4478-8a57-2cbc1fe14f50",
        "id": "_rinGse3fh5K"
      },
      "execution_count": null,
      "outputs": [
        {
          "output_type": "stream",
          "name": "stdout",
          "text": [
            "[[8524  543]\n",
            " [1337 1656]]\n"
          ]
        }
      ]
    },
    {
      "cell_type": "markdown",
      "source": [
        "Prediction using the K-Nearest Neighbour algorithm:"
      ],
      "metadata": {
        "id": "wVhZW2Qwfh5K"
      }
    },
    {
      "cell_type": "code",
      "source": [
        "from sklearn.neighbors import KNeighborsClassifier\n",
        "knn = KNeighborsClassifier()\n",
        "knn.fit(X_train, y_train)\n",
        "knn_score=knn.score(X_train, y_train)\n",
        "print(\"Training set score: %f\" % knn_score)\n",
        "print(\"Test set score: %f\" % knn.score(X_test, y_test))"
      ],
      "metadata": {
        "colab": {
          "base_uri": "https://localhost:8080/"
        },
        "outputId": "7e8355fb-e65e-4a3e-ada0-0560d3dbba56",
        "id": "j22JyRxyfh5K"
      },
      "execution_count": null,
      "outputs": [
        {
          "output_type": "stream",
          "name": "stdout",
          "text": [
            "Training set score: 0.872346\n",
            "Test set score: 0.826036\n"
          ]
        }
      ]
    },
    {
      "cell_type": "code",
      "source": [
        "KNN_predict = knn.predict(X_test)\n",
        "\n",
        "accuracy_KNN = accuracy_score(y_test, KNN_predict)\n",
        "print('Accuracy: ',accuracy_KNN)\n",
        "\n",
        "print(classification_report(y_test,KNN_predict))"
      ],
      "metadata": {
        "colab": {
          "base_uri": "https://localhost:8080/"
        },
        "outputId": "64552ac2-a3bd-4635-eecc-823f8418feb6",
        "id": "hLtcA1lvfh5K"
      },
      "execution_count": null,
      "outputs": [
        {
          "output_type": "stream",
          "name": "stdout",
          "text": [
            "Accuracy:  0.8260364842454395\n",
            "              precision    recall  f1-score   support\n",
            "\n",
            "           0       0.87      0.90      0.89      9067\n",
            "           1       0.67      0.60      0.63      2993\n",
            "\n",
            "    accuracy                           0.83     12060\n",
            "   macro avg       0.77      0.75      0.76     12060\n",
            "weighted avg       0.82      0.83      0.82     12060\n",
            "\n"
          ]
        }
      ]
    },
    {
      "cell_type": "code",
      "source": [
        "recall_KNN = recall_score(y_test, KNN_predict)\n",
        "# f1: 2 tp / (2 tp + fp + fn)\n",
        "f1_KNN = f1_score(y_test, KNN_predict)\n",
        "matrix_KNN = confusion_matrix(y_test, KNN_predict)\n",
        "print(matrix_KNN)"
      ],
      "metadata": {
        "colab": {
          "base_uri": "https://localhost:8080/"
        },
        "outputId": "e268f0b2-617e-4ccc-8865-7a4b736035e5",
        "id": "SMUMScBAfh5L"
      },
      "execution_count": null,
      "outputs": [
        {
          "output_type": "stream",
          "name": "stdout",
          "text": [
            "[[8165  902]\n",
            " [1196 1797]]\n"
          ]
        }
      ]
    },
    {
      "cell_type": "markdown",
      "source": [
        "Prediction using the Naive Bayes algorithm:"
      ],
      "metadata": {
        "id": "YZnPDP2Wfh5L"
      }
    },
    {
      "cell_type": "code",
      "source": [
        "from sklearn.naive_bayes import GaussianNB\n",
        "gnb = GaussianNB()\n",
        "gnb.fit(X_train, y_train)\n",
        "gnb_score=gnb.score(X_train, y_train)\n",
        "print(\"Training set score: %f\" % gnb_score)\n",
        "print(\"Test set score: %f\" % gnb.score(X_test, y_test))"
      ],
      "metadata": {
        "colab": {
          "base_uri": "https://localhost:8080/"
        },
        "outputId": "c109b72f-a92d-4056-f4e0-76d0d3f5b8fe",
        "id": "ufrL4E0Tfh5L"
      },
      "execution_count": null,
      "outputs": [
        {
          "output_type": "stream",
          "name": "stdout",
          "text": [
            "Training set score: 0.795721\n",
            "Test set score: 0.797015\n"
          ]
        }
      ]
    },
    {
      "cell_type": "code",
      "source": [
        "GNB_predict = gnb.predict(X_test)\n",
        "\n",
        "accuracy_GNB = accuracy_score(y_test, GNB_predict)\n",
        "print('Accuracy: ',accuracy_GNB)\n",
        "\n",
        "print(classification_report(y_test,GNB_predict))"
      ],
      "metadata": {
        "colab": {
          "base_uri": "https://localhost:8080/"
        },
        "outputId": "1d2faa0f-a66d-472b-a582-04be8f07423c",
        "id": "FjLPVk5Ifh5L"
      },
      "execution_count": null,
      "outputs": [
        {
          "output_type": "stream",
          "name": "stdout",
          "text": [
            "Accuracy:  0.7970149253731343\n",
            "              precision    recall  f1-score   support\n",
            "\n",
            "           0       0.81      0.95      0.88      9067\n",
            "           1       0.68      0.34      0.46      2993\n",
            "\n",
            "    accuracy                           0.80     12060\n",
            "   macro avg       0.75      0.64      0.67     12060\n",
            "weighted avg       0.78      0.80      0.77     12060\n",
            "\n"
          ]
        }
      ]
    },
    {
      "cell_type": "code",
      "source": [
        "recall_GNB = recall_score(y_test, GNB_predict)\n",
        "# f1: 2 tp / (2 tp + fp + fn)\n",
        "f1_GNB = f1_score(y_test, GNB_predict)\n",
        "matrix_GNB = confusion_matrix(y_test, GNB_predict)\n",
        "print(matrix_GNB)"
      ],
      "metadata": {
        "colab": {
          "base_uri": "https://localhost:8080/"
        },
        "outputId": "0ef3b240-b560-4008-fa92-eaf11fddf5f6",
        "id": "3Nd4Seatfh5L"
      },
      "execution_count": null,
      "outputs": [
        {
          "output_type": "stream",
          "name": "stdout",
          "text": [
            "[[8585  482]\n",
            " [1966 1027]]\n"
          ]
        }
      ]
    },
    {
      "cell_type": "markdown",
      "source": [
        "Table of the accuracy scores and the training set scores:"
      ],
      "metadata": {
        "id": "9Qqab8V1fh5L"
      }
    },
    {
      "cell_type": "code",
      "source": [
        "acc_scores=[accuracy_MLP,accuracy_LR,accuracy_DTC,accuracy_RFC,accuracy_SVC,accuracy_KNN,accuracy_GNB]\n",
        "\n",
        "training_set_score=[mlp_score,lr_score,dtc_score,rfc_score,svc_score,knn_score,gnb_score]\n",
        "\n",
        "f1_scores=[f1_MLP,f1_LR,f1_DTC,f1_RFC,f1_SVC,f1_KNN,f1_GNB]\n",
        "\n",
        "recall_scores=[recall_MLP,recall_LR,recall_DTC,recall_RFC,recall_SVC,recall_KNN,recall_GNB]\n",
        "\n",
        "algorithms=['MLP2','LR2','DTC2','RFC2','SVC2','KNN2','GNB2']\n",
        "\n",
        "accuracy_df_2=pd.DataFrame({'Accuracy_score': acc_scores, 'Trainig_score': training_set_score,'F1_scores': f1_scores,'Recall':recall_scores},index=algorithms)\n",
        "\n",
        "accuracy_df_2"
      ],
      "metadata": {
        "id": "aC_u1ujUwj0e",
        "colab": {
          "base_uri": "https://localhost:8080/",
          "height": 269
        },
        "outputId": "3944c214-7906-4a6f-de13-7ad0baedd43b"
      },
      "execution_count": null,
      "outputs": [
        {
          "output_type": "execute_result",
          "data": {
            "text/plain": [
              "      Accuracy_score  Trainig_score  F1_scores    Recall\n",
              "MLP2        0.842952       0.847800   0.646510  0.578684\n",
              "LR2         0.818988       0.821760   0.556571  0.457735\n",
              "DTC2        0.804395       1.000000   0.613469  0.625459\n",
              "RFC2        0.850995       1.000000   0.677437  0.630471\n",
              "SVC2        0.844113       0.853826   0.637904  0.553291\n",
              "KNN2        0.826036       0.872346   0.631413  0.600401\n",
              "GNB2        0.797015       0.795721   0.456242  0.343134"
            ],
            "text/html": [
              "\n",
              "  <div id=\"df-22971967-bf84-4b8d-beca-93fc38512eb9\">\n",
              "    <div class=\"colab-df-container\">\n",
              "      <div>\n",
              "<style scoped>\n",
              "    .dataframe tbody tr th:only-of-type {\n",
              "        vertical-align: middle;\n",
              "    }\n",
              "\n",
              "    .dataframe tbody tr th {\n",
              "        vertical-align: top;\n",
              "    }\n",
              "\n",
              "    .dataframe thead th {\n",
              "        text-align: right;\n",
              "    }\n",
              "</style>\n",
              "<table border=\"1\" class=\"dataframe\">\n",
              "  <thead>\n",
              "    <tr style=\"text-align: right;\">\n",
              "      <th></th>\n",
              "      <th>Accuracy_score</th>\n",
              "      <th>Trainig_score</th>\n",
              "      <th>F1_scores</th>\n",
              "      <th>Recall</th>\n",
              "    </tr>\n",
              "  </thead>\n",
              "  <tbody>\n",
              "    <tr>\n",
              "      <th>MLP2</th>\n",
              "      <td>0.842952</td>\n",
              "      <td>0.847800</td>\n",
              "      <td>0.646510</td>\n",
              "      <td>0.578684</td>\n",
              "    </tr>\n",
              "    <tr>\n",
              "      <th>LR2</th>\n",
              "      <td>0.818988</td>\n",
              "      <td>0.821760</td>\n",
              "      <td>0.556571</td>\n",
              "      <td>0.457735</td>\n",
              "    </tr>\n",
              "    <tr>\n",
              "      <th>DTC2</th>\n",
              "      <td>0.804395</td>\n",
              "      <td>1.000000</td>\n",
              "      <td>0.613469</td>\n",
              "      <td>0.625459</td>\n",
              "    </tr>\n",
              "    <tr>\n",
              "      <th>RFC2</th>\n",
              "      <td>0.850995</td>\n",
              "      <td>1.000000</td>\n",
              "      <td>0.677437</td>\n",
              "      <td>0.630471</td>\n",
              "    </tr>\n",
              "    <tr>\n",
              "      <th>SVC2</th>\n",
              "      <td>0.844113</td>\n",
              "      <td>0.853826</td>\n",
              "      <td>0.637904</td>\n",
              "      <td>0.553291</td>\n",
              "    </tr>\n",
              "    <tr>\n",
              "      <th>KNN2</th>\n",
              "      <td>0.826036</td>\n",
              "      <td>0.872346</td>\n",
              "      <td>0.631413</td>\n",
              "      <td>0.600401</td>\n",
              "    </tr>\n",
              "    <tr>\n",
              "      <th>GNB2</th>\n",
              "      <td>0.797015</td>\n",
              "      <td>0.795721</td>\n",
              "      <td>0.456242</td>\n",
              "      <td>0.343134</td>\n",
              "    </tr>\n",
              "  </tbody>\n",
              "</table>\n",
              "</div>\n",
              "      <button class=\"colab-df-convert\" onclick=\"convertToInteractive('df-22971967-bf84-4b8d-beca-93fc38512eb9')\"\n",
              "              title=\"Convert this dataframe to an interactive table.\"\n",
              "              style=\"display:none;\">\n",
              "        \n",
              "  <svg xmlns=\"http://www.w3.org/2000/svg\" height=\"24px\"viewBox=\"0 0 24 24\"\n",
              "       width=\"24px\">\n",
              "    <path d=\"M0 0h24v24H0V0z\" fill=\"none\"/>\n",
              "    <path d=\"M18.56 5.44l.94 2.06.94-2.06 2.06-.94-2.06-.94-.94-2.06-.94 2.06-2.06.94zm-11 1L8.5 8.5l.94-2.06 2.06-.94-2.06-.94L8.5 2.5l-.94 2.06-2.06.94zm10 10l.94 2.06.94-2.06 2.06-.94-2.06-.94-.94-2.06-.94 2.06-2.06.94z\"/><path d=\"M17.41 7.96l-1.37-1.37c-.4-.4-.92-.59-1.43-.59-.52 0-1.04.2-1.43.59L10.3 9.45l-7.72 7.72c-.78.78-.78 2.05 0 2.83L4 21.41c.39.39.9.59 1.41.59.51 0 1.02-.2 1.41-.59l7.78-7.78 2.81-2.81c.8-.78.8-2.07 0-2.86zM5.41 20L4 18.59l7.72-7.72 1.47 1.35L5.41 20z\"/>\n",
              "  </svg>\n",
              "      </button>\n",
              "      \n",
              "  <style>\n",
              "    .colab-df-container {\n",
              "      display:flex;\n",
              "      flex-wrap:wrap;\n",
              "      gap: 12px;\n",
              "    }\n",
              "\n",
              "    .colab-df-convert {\n",
              "      background-color: #E8F0FE;\n",
              "      border: none;\n",
              "      border-radius: 50%;\n",
              "      cursor: pointer;\n",
              "      display: none;\n",
              "      fill: #1967D2;\n",
              "      height: 32px;\n",
              "      padding: 0 0 0 0;\n",
              "      width: 32px;\n",
              "    }\n",
              "\n",
              "    .colab-df-convert:hover {\n",
              "      background-color: #E2EBFA;\n",
              "      box-shadow: 0px 1px 2px rgba(60, 64, 67, 0.3), 0px 1px 3px 1px rgba(60, 64, 67, 0.15);\n",
              "      fill: #174EA6;\n",
              "    }\n",
              "\n",
              "    [theme=dark] .colab-df-convert {\n",
              "      background-color: #3B4455;\n",
              "      fill: #D2E3FC;\n",
              "    }\n",
              "\n",
              "    [theme=dark] .colab-df-convert:hover {\n",
              "      background-color: #434B5C;\n",
              "      box-shadow: 0px 1px 3px 1px rgba(0, 0, 0, 0.15);\n",
              "      filter: drop-shadow(0px 1px 2px rgba(0, 0, 0, 0.3));\n",
              "      fill: #FFFFFF;\n",
              "    }\n",
              "  </style>\n",
              "\n",
              "      <script>\n",
              "        const buttonEl =\n",
              "          document.querySelector('#df-22971967-bf84-4b8d-beca-93fc38512eb9 button.colab-df-convert');\n",
              "        buttonEl.style.display =\n",
              "          google.colab.kernel.accessAllowed ? 'block' : 'none';\n",
              "\n",
              "        async function convertToInteractive(key) {\n",
              "          const element = document.querySelector('#df-22971967-bf84-4b8d-beca-93fc38512eb9');\n",
              "          const dataTable =\n",
              "            await google.colab.kernel.invokeFunction('convertToInteractive',\n",
              "                                                     [key], {});\n",
              "          if (!dataTable) return;\n",
              "\n",
              "          const docLinkHtml = 'Like what you see? Visit the ' +\n",
              "            '<a target=\"_blank\" href=https://colab.research.google.com/notebooks/data_table.ipynb>data table notebook</a>'\n",
              "            + ' to learn more about interactive tables.';\n",
              "          element.innerHTML = '';\n",
              "          dataTable['output_type'] = 'display_data';\n",
              "          await google.colab.output.renderOutput(dataTable, element);\n",
              "          const docLink = document.createElement('div');\n",
              "          docLink.innerHTML = docLinkHtml;\n",
              "          element.appendChild(docLink);\n",
              "        }\n",
              "      </script>\n",
              "    </div>\n",
              "  </div>\n",
              "  "
            ]
          },
          "metadata": {},
          "execution_count": 207
        }
      ]
    },
    {
      "cell_type": "markdown",
      "source": [
        "# Comparing the two datasets:\n",
        "\n",
        "\n"
      ],
      "metadata": {
        "id": "n_A4XkpEitXA"
      }
    },
    {
      "cell_type": "code",
      "source": [
        "big_df = pd.DataFrame()\n",
        "\n",
        "big_df = pd.concat([accuracy_df,accuracy_df_2],axis=0)\n",
        "big_df"
      ],
      "metadata": {
        "colab": {
          "base_uri": "https://localhost:8080/",
          "height": 488
        },
        "id": "gWWjTZ0Jh9-Q",
        "outputId": "458992cf-b353-41fa-affb-57e8e6f2c5c7"
      },
      "execution_count": null,
      "outputs": [
        {
          "output_type": "execute_result",
          "data": {
            "text/plain": [
              "      Accuracy_score  Trainig_score  F1_scores    Recall\n",
              "MLP         0.763158       0.982379   0.785714  0.804878\n",
              "LR          0.842105       0.837004   0.860465  0.902439\n",
              "DTC         0.697368       1.000000   0.722892  0.731707\n",
              "RFC         0.789474       1.000000   0.813953  0.853659\n",
              "SVC         0.802632       0.938326   0.827586  0.878049\n",
              "KNN         0.802632       0.876652   0.823529  0.853659\n",
              "GNB         0.802632       0.841410   0.819277  0.829268\n",
              "MLP2        0.842952       0.847800   0.646510  0.578684\n",
              "LR2         0.818988       0.821760   0.556571  0.457735\n",
              "DTC2        0.804395       1.000000   0.613469  0.625459\n",
              "RFC2        0.850995       1.000000   0.677437  0.630471\n",
              "SVC2        0.844113       0.853826   0.637904  0.553291\n",
              "KNN2        0.826036       0.872346   0.631413  0.600401\n",
              "GNB2        0.797015       0.795721   0.456242  0.343134"
            ],
            "text/html": [
              "\n",
              "  <div id=\"df-3fc9a6e8-5c87-4faf-8ecf-565a823bcfd2\">\n",
              "    <div class=\"colab-df-container\">\n",
              "      <div>\n",
              "<style scoped>\n",
              "    .dataframe tbody tr th:only-of-type {\n",
              "        vertical-align: middle;\n",
              "    }\n",
              "\n",
              "    .dataframe tbody tr th {\n",
              "        vertical-align: top;\n",
              "    }\n",
              "\n",
              "    .dataframe thead th {\n",
              "        text-align: right;\n",
              "    }\n",
              "</style>\n",
              "<table border=\"1\" class=\"dataframe\">\n",
              "  <thead>\n",
              "    <tr style=\"text-align: right;\">\n",
              "      <th></th>\n",
              "      <th>Accuracy_score</th>\n",
              "      <th>Trainig_score</th>\n",
              "      <th>F1_scores</th>\n",
              "      <th>Recall</th>\n",
              "    </tr>\n",
              "  </thead>\n",
              "  <tbody>\n",
              "    <tr>\n",
              "      <th>MLP</th>\n",
              "      <td>0.763158</td>\n",
              "      <td>0.982379</td>\n",
              "      <td>0.785714</td>\n",
              "      <td>0.804878</td>\n",
              "    </tr>\n",
              "    <tr>\n",
              "      <th>LR</th>\n",
              "      <td>0.842105</td>\n",
              "      <td>0.837004</td>\n",
              "      <td>0.860465</td>\n",
              "      <td>0.902439</td>\n",
              "    </tr>\n",
              "    <tr>\n",
              "      <th>DTC</th>\n",
              "      <td>0.697368</td>\n",
              "      <td>1.000000</td>\n",
              "      <td>0.722892</td>\n",
              "      <td>0.731707</td>\n",
              "    </tr>\n",
              "    <tr>\n",
              "      <th>RFC</th>\n",
              "      <td>0.789474</td>\n",
              "      <td>1.000000</td>\n",
              "      <td>0.813953</td>\n",
              "      <td>0.853659</td>\n",
              "    </tr>\n",
              "    <tr>\n",
              "      <th>SVC</th>\n",
              "      <td>0.802632</td>\n",
              "      <td>0.938326</td>\n",
              "      <td>0.827586</td>\n",
              "      <td>0.878049</td>\n",
              "    </tr>\n",
              "    <tr>\n",
              "      <th>KNN</th>\n",
              "      <td>0.802632</td>\n",
              "      <td>0.876652</td>\n",
              "      <td>0.823529</td>\n",
              "      <td>0.853659</td>\n",
              "    </tr>\n",
              "    <tr>\n",
              "      <th>GNB</th>\n",
              "      <td>0.802632</td>\n",
              "      <td>0.841410</td>\n",
              "      <td>0.819277</td>\n",
              "      <td>0.829268</td>\n",
              "    </tr>\n",
              "    <tr>\n",
              "      <th>MLP2</th>\n",
              "      <td>0.842952</td>\n",
              "      <td>0.847800</td>\n",
              "      <td>0.646510</td>\n",
              "      <td>0.578684</td>\n",
              "    </tr>\n",
              "    <tr>\n",
              "      <th>LR2</th>\n",
              "      <td>0.818988</td>\n",
              "      <td>0.821760</td>\n",
              "      <td>0.556571</td>\n",
              "      <td>0.457735</td>\n",
              "    </tr>\n",
              "    <tr>\n",
              "      <th>DTC2</th>\n",
              "      <td>0.804395</td>\n",
              "      <td>1.000000</td>\n",
              "      <td>0.613469</td>\n",
              "      <td>0.625459</td>\n",
              "    </tr>\n",
              "    <tr>\n",
              "      <th>RFC2</th>\n",
              "      <td>0.850995</td>\n",
              "      <td>1.000000</td>\n",
              "      <td>0.677437</td>\n",
              "      <td>0.630471</td>\n",
              "    </tr>\n",
              "    <tr>\n",
              "      <th>SVC2</th>\n",
              "      <td>0.844113</td>\n",
              "      <td>0.853826</td>\n",
              "      <td>0.637904</td>\n",
              "      <td>0.553291</td>\n",
              "    </tr>\n",
              "    <tr>\n",
              "      <th>KNN2</th>\n",
              "      <td>0.826036</td>\n",
              "      <td>0.872346</td>\n",
              "      <td>0.631413</td>\n",
              "      <td>0.600401</td>\n",
              "    </tr>\n",
              "    <tr>\n",
              "      <th>GNB2</th>\n",
              "      <td>0.797015</td>\n",
              "      <td>0.795721</td>\n",
              "      <td>0.456242</td>\n",
              "      <td>0.343134</td>\n",
              "    </tr>\n",
              "  </tbody>\n",
              "</table>\n",
              "</div>\n",
              "      <button class=\"colab-df-convert\" onclick=\"convertToInteractive('df-3fc9a6e8-5c87-4faf-8ecf-565a823bcfd2')\"\n",
              "              title=\"Convert this dataframe to an interactive table.\"\n",
              "              style=\"display:none;\">\n",
              "        \n",
              "  <svg xmlns=\"http://www.w3.org/2000/svg\" height=\"24px\"viewBox=\"0 0 24 24\"\n",
              "       width=\"24px\">\n",
              "    <path d=\"M0 0h24v24H0V0z\" fill=\"none\"/>\n",
              "    <path d=\"M18.56 5.44l.94 2.06.94-2.06 2.06-.94-2.06-.94-.94-2.06-.94 2.06-2.06.94zm-11 1L8.5 8.5l.94-2.06 2.06-.94-2.06-.94L8.5 2.5l-.94 2.06-2.06.94zm10 10l.94 2.06.94-2.06 2.06-.94-2.06-.94-.94-2.06-.94 2.06-2.06.94z\"/><path d=\"M17.41 7.96l-1.37-1.37c-.4-.4-.92-.59-1.43-.59-.52 0-1.04.2-1.43.59L10.3 9.45l-7.72 7.72c-.78.78-.78 2.05 0 2.83L4 21.41c.39.39.9.59 1.41.59.51 0 1.02-.2 1.41-.59l7.78-7.78 2.81-2.81c.8-.78.8-2.07 0-2.86zM5.41 20L4 18.59l7.72-7.72 1.47 1.35L5.41 20z\"/>\n",
              "  </svg>\n",
              "      </button>\n",
              "      \n",
              "  <style>\n",
              "    .colab-df-container {\n",
              "      display:flex;\n",
              "      flex-wrap:wrap;\n",
              "      gap: 12px;\n",
              "    }\n",
              "\n",
              "    .colab-df-convert {\n",
              "      background-color: #E8F0FE;\n",
              "      border: none;\n",
              "      border-radius: 50%;\n",
              "      cursor: pointer;\n",
              "      display: none;\n",
              "      fill: #1967D2;\n",
              "      height: 32px;\n",
              "      padding: 0 0 0 0;\n",
              "      width: 32px;\n",
              "    }\n",
              "\n",
              "    .colab-df-convert:hover {\n",
              "      background-color: #E2EBFA;\n",
              "      box-shadow: 0px 1px 2px rgba(60, 64, 67, 0.3), 0px 1px 3px 1px rgba(60, 64, 67, 0.15);\n",
              "      fill: #174EA6;\n",
              "    }\n",
              "\n",
              "    [theme=dark] .colab-df-convert {\n",
              "      background-color: #3B4455;\n",
              "      fill: #D2E3FC;\n",
              "    }\n",
              "\n",
              "    [theme=dark] .colab-df-convert:hover {\n",
              "      background-color: #434B5C;\n",
              "      box-shadow: 0px 1px 3px 1px rgba(0, 0, 0, 0.15);\n",
              "      filter: drop-shadow(0px 1px 2px rgba(0, 0, 0, 0.3));\n",
              "      fill: #FFFFFF;\n",
              "    }\n",
              "  </style>\n",
              "\n",
              "      <script>\n",
              "        const buttonEl =\n",
              "          document.querySelector('#df-3fc9a6e8-5c87-4faf-8ecf-565a823bcfd2 button.colab-df-convert');\n",
              "        buttonEl.style.display =\n",
              "          google.colab.kernel.accessAllowed ? 'block' : 'none';\n",
              "\n",
              "        async function convertToInteractive(key) {\n",
              "          const element = document.querySelector('#df-3fc9a6e8-5c87-4faf-8ecf-565a823bcfd2');\n",
              "          const dataTable =\n",
              "            await google.colab.kernel.invokeFunction('convertToInteractive',\n",
              "                                                     [key], {});\n",
              "          if (!dataTable) return;\n",
              "\n",
              "          const docLinkHtml = 'Like what you see? Visit the ' +\n",
              "            '<a target=\"_blank\" href=https://colab.research.google.com/notebooks/data_table.ipynb>data table notebook</a>'\n",
              "            + ' to learn more about interactive tables.';\n",
              "          element.innerHTML = '';\n",
              "          dataTable['output_type'] = 'display_data';\n",
              "          await google.colab.output.renderOutput(dataTable, element);\n",
              "          const docLink = document.createElement('div');\n",
              "          docLink.innerHTML = docLinkHtml;\n",
              "          element.appendChild(docLink);\n",
              "        }\n",
              "      </script>\n",
              "    </div>\n",
              "  </div>\n",
              "  "
            ]
          },
          "metadata": {},
          "execution_count": 209
        }
      ]
    }
  ]
}